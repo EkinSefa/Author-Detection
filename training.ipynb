{
 "cells": [
  {
   "cell_type": "code",
   "execution_count": 146,
   "id": "33fcfb2fb589c05",
   "metadata": {
    "ExecuteTime": {
     "end_time": "2024-12-28T19:12:41.519784Z",
     "start_time": "2024-12-28T19:12:41.516922Z"
    }
   },
   "outputs": [],
   "source": [
    "articles = []"
   ]
  },
  {
   "cell_type": "code",
   "execution_count": 147,
   "id": "74d1b56f8c8e10ba",
   "metadata": {
    "ExecuteTime": {
     "end_time": "2024-12-28T19:12:42.165123Z",
     "start_time": "2024-12-28T19:12:41.913707Z"
    }
   },
   "outputs": [
    {
     "name": "stdout",
     "output_type": "stream",
     "text": [
      "Problem Klasörleri: ['pan18-cross-domain-authorship-attribution-training-dataset-2017-12-02/problem00001\\\\candidate00001', 'pan18-cross-domain-authorship-attribution-training-dataset-2017-12-02/problem00001\\\\candidate00002', 'pan18-cross-domain-authorship-attribution-training-dataset-2017-12-02/problem00001\\\\candidate00003', 'pan18-cross-domain-authorship-attribution-training-dataset-2017-12-02/problem00001\\\\candidate00004', 'pan18-cross-domain-authorship-attribution-training-dataset-2017-12-02/problem00001\\\\candidate00005', 'pan18-cross-domain-authorship-attribution-training-dataset-2017-12-02/problem00001\\\\candidate00006', 'pan18-cross-domain-authorship-attribution-training-dataset-2017-12-02/problem00001\\\\candidate00007', 'pan18-cross-domain-authorship-attribution-training-dataset-2017-12-02/problem00001\\\\candidate00008', 'pan18-cross-domain-authorship-attribution-training-dataset-2017-12-02/problem00001\\\\candidate00009', 'pan18-cross-domain-authorship-attribution-training-dataset-2017-12-02/problem00001\\\\candidate00010', 'pan18-cross-domain-authorship-attribution-training-dataset-2017-12-02/problem00001\\\\candidate00011', 'pan18-cross-domain-authorship-attribution-training-dataset-2017-12-02/problem00001\\\\candidate00012', 'pan18-cross-domain-authorship-attribution-training-dataset-2017-12-02/problem00001\\\\candidate00013', 'pan18-cross-domain-authorship-attribution-training-dataset-2017-12-02/problem00001\\\\candidate00014', 'pan18-cross-domain-authorship-attribution-training-dataset-2017-12-02/problem00001\\\\candidate00015', 'pan18-cross-domain-authorship-attribution-training-dataset-2017-12-02/problem00001\\\\candidate00016', 'pan18-cross-domain-authorship-attribution-training-dataset-2017-12-02/problem00001\\\\candidate00017', 'pan18-cross-domain-authorship-attribution-training-dataset-2017-12-02/problem00001\\\\candidate00018', 'pan18-cross-domain-authorship-attribution-training-dataset-2017-12-02/problem00001\\\\candidate00019', 'pan18-cross-domain-authorship-attribution-training-dataset-2017-12-02/problem00001\\\\candidate00020', 'pan18-cross-domain-authorship-attribution-training-dataset-2017-12-02/problem00001\\\\unknown']\n",
      "Problemdeki Dosyalar: ['known00001.txt', 'known00002.txt', 'known00003.txt', 'known00004.txt', 'known00005.txt', 'known00006.txt', 'known00007.txt']\n",
      "Problemdeki Dosyalar: ['known00001.txt', 'known00002.txt', 'known00003.txt', 'known00004.txt', 'known00005.txt', 'known00006.txt', 'known00007.txt']\n",
      "Problemdeki Dosyalar: ['known00001.txt', 'known00002.txt', 'known00003.txt', 'known00004.txt', 'known00005.txt', 'known00006.txt', 'known00007.txt']\n",
      "Problemdeki Dosyalar: ['known00001.txt', 'known00002.txt', 'known00003.txt', 'known00004.txt', 'known00005.txt', 'known00006.txt', 'known00007.txt']\n",
      "Problemdeki Dosyalar: ['known00001.txt', 'known00002.txt', 'known00003.txt', 'known00004.txt', 'known00005.txt', 'known00006.txt', 'known00007.txt']\n",
      "Problemdeki Dosyalar: ['known00001.txt', 'known00002.txt', 'known00003.txt', 'known00004.txt', 'known00005.txt', 'known00006.txt', 'known00007.txt']\n",
      "Problemdeki Dosyalar: ['known00001.txt', 'known00002.txt', 'known00003.txt', 'known00004.txt', 'known00005.txt', 'known00006.txt', 'known00007.txt']\n",
      "Problemdeki Dosyalar: ['known00001.txt', 'known00002.txt', 'known00003.txt', 'known00004.txt', 'known00005.txt', 'known00006.txt', 'known00007.txt']\n",
      "Problemdeki Dosyalar: ['known00001.txt', 'known00002.txt', 'known00003.txt', 'known00004.txt', 'known00005.txt', 'known00006.txt', 'known00007.txt']\n",
      "Problemdeki Dosyalar: ['known00001.txt', 'known00002.txt', 'known00003.txt', 'known00004.txt', 'known00005.txt', 'known00006.txt', 'known00007.txt']\n",
      "Problemdeki Dosyalar: ['known00001.txt', 'known00002.txt', 'known00003.txt', 'known00004.txt', 'known00005.txt', 'known00006.txt', 'known00007.txt']\n",
      "Problemdeki Dosyalar: ['known00001.txt', 'known00002.txt', 'known00003.txt', 'known00004.txt', 'known00005.txt', 'known00006.txt', 'known00007.txt']\n",
      "Problemdeki Dosyalar: ['known00001.txt', 'known00002.txt', 'known00003.txt', 'known00004.txt', 'known00005.txt', 'known00006.txt', 'known00007.txt']\n",
      "Problemdeki Dosyalar: ['known00001.txt', 'known00002.txt', 'known00003.txt', 'known00004.txt', 'known00005.txt', 'known00006.txt', 'known00007.txt']\n",
      "Problemdeki Dosyalar: ['known00001.txt', 'known00002.txt', 'known00003.txt', 'known00004.txt', 'known00005.txt', 'known00006.txt', 'known00007.txt']\n",
      "Problemdeki Dosyalar: ['known00001.txt', 'known00002.txt', 'known00003.txt', 'known00004.txt', 'known00005.txt', 'known00006.txt', 'known00007.txt']\n",
      "Problemdeki Dosyalar: ['known00001.txt', 'known00002.txt', 'known00003.txt', 'known00004.txt', 'known00005.txt', 'known00006.txt', 'known00007.txt']\n",
      "Problemdeki Dosyalar: ['known00001.txt', 'known00002.txt', 'known00003.txt', 'known00004.txt', 'known00005.txt', 'known00006.txt', 'known00007.txt']\n",
      "Problemdeki Dosyalar: ['known00001.txt', 'known00002.txt', 'known00003.txt', 'known00004.txt', 'known00005.txt', 'known00006.txt', 'known00007.txt']\n",
      "Problemdeki Dosyalar: ['known00001.txt', 'known00002.txt', 'known00003.txt', 'known00004.txt', 'known00005.txt', 'known00006.txt', 'known00007.txt']\n",
      "Problemdeki Dosyalar: ['unknown00001.txt', 'unknown00002.txt', 'unknown00003.txt', 'unknown00004.txt', 'unknown00005.txt', 'unknown00006.txt', 'unknown00007.txt', 'unknown00008.txt', 'unknown00009.txt', 'unknown00010.txt', 'unknown00011.txt', 'unknown00012.txt', 'unknown00013.txt', 'unknown00014.txt', 'unknown00015.txt', 'unknown00016.txt', 'unknown00017.txt', 'unknown00018.txt', 'unknown00019.txt', 'unknown00020.txt', 'unknown00021.txt', 'unknown00022.txt', 'unknown00023.txt', 'unknown00024.txt', 'unknown00025.txt', 'unknown00026.txt', 'unknown00027.txt', 'unknown00028.txt', 'unknown00029.txt', 'unknown00030.txt', 'unknown00031.txt', 'unknown00032.txt', 'unknown00033.txt', 'unknown00034.txt', 'unknown00035.txt', 'unknown00036.txt', 'unknown00037.txt', 'unknown00038.txt', 'unknown00039.txt', 'unknown00040.txt', 'unknown00041.txt', 'unknown00042.txt', 'unknown00043.txt', 'unknown00044.txt', 'unknown00045.txt', 'unknown00046.txt', 'unknown00047.txt', 'unknown00048.txt', 'unknown00049.txt', 'unknown00050.txt', 'unknown00051.txt', 'unknown00052.txt', 'unknown00053.txt', 'unknown00054.txt', 'unknown00055.txt', 'unknown00056.txt', 'unknown00057.txt', 'unknown00058.txt', 'unknown00059.txt', 'unknown00060.txt', 'unknown00061.txt', 'unknown00062.txt', 'unknown00063.txt', 'unknown00064.txt', 'unknown00065.txt', 'unknown00066.txt', 'unknown00067.txt', 'unknown00068.txt', 'unknown00069.txt', 'unknown00070.txt', 'unknown00071.txt', 'unknown00072.txt', 'unknown00073.txt', 'unknown00074.txt', 'unknown00075.txt', 'unknown00076.txt', 'unknown00077.txt', 'unknown00078.txt', 'unknown00079.txt', 'unknown00080.txt', 'unknown00081.txt', 'unknown00082.txt', 'unknown00083.txt', 'unknown00084.txt', 'unknown00085.txt', 'unknown00086.txt', 'unknown00087.txt', 'unknown00088.txt', 'unknown00089.txt', 'unknown00090.txt', 'unknown00091.txt', 'unknown00092.txt', 'unknown00093.txt', 'unknown00094.txt', 'unknown00095.txt', 'unknown00096.txt', 'unknown00097.txt', 'unknown00098.txt', 'unknown00099.txt', 'unknown00100.txt', 'unknown00101.txt', 'unknown00102.txt', 'unknown00103.txt', 'unknown00104.txt', 'unknown00105.txt']\n",
      "Problem Klasörleri: ['pan18-cross-domain-authorship-attribution-training-dataset-2017-12-02/problem00002\\\\candidate00001', 'pan18-cross-domain-authorship-attribution-training-dataset-2017-12-02/problem00002\\\\candidate00002', 'pan18-cross-domain-authorship-attribution-training-dataset-2017-12-02/problem00002\\\\candidate00003', 'pan18-cross-domain-authorship-attribution-training-dataset-2017-12-02/problem00002\\\\candidate00004', 'pan18-cross-domain-authorship-attribution-training-dataset-2017-12-02/problem00002\\\\candidate00005', 'pan18-cross-domain-authorship-attribution-training-dataset-2017-12-02/problem00002\\\\unknown']\n",
      "Problemdeki Dosyalar: ['known00001.txt', 'known00002.txt', 'known00003.txt', 'known00004.txt', 'known00005.txt', 'known00006.txt', 'known00007.txt']\n",
      "Problemdeki Dosyalar: ['known00001.txt', 'known00002.txt', 'known00003.txt', 'known00004.txt', 'known00005.txt', 'known00006.txt', 'known00007.txt']\n",
      "Problemdeki Dosyalar: ['known00001.txt', 'known00002.txt', 'known00003.txt', 'known00004.txt', 'known00005.txt', 'known00006.txt', 'known00007.txt']\n",
      "Problemdeki Dosyalar: ['known00001.txt', 'known00002.txt', 'known00003.txt', 'known00004.txt', 'known00005.txt', 'known00006.txt', 'known00007.txt']\n",
      "Problemdeki Dosyalar: ['known00001.txt', 'known00002.txt', 'known00003.txt', 'known00004.txt', 'known00005.txt', 'known00006.txt', 'known00007.txt']\n",
      "Problemdeki Dosyalar: ['unknown00001.txt', 'unknown00002.txt', 'unknown00003.txt', 'unknown00004.txt', 'unknown00005.txt', 'unknown00006.txt', 'unknown00007.txt', 'unknown00008.txt', 'unknown00009.txt', 'unknown00010.txt', 'unknown00011.txt', 'unknown00012.txt', 'unknown00013.txt', 'unknown00014.txt', 'unknown00015.txt', 'unknown00016.txt', 'unknown00017.txt', 'unknown00018.txt', 'unknown00019.txt', 'unknown00020.txt', 'unknown00021.txt']\n",
      "Problem Klasörleri: ['pan18-cross-domain-authorship-attribution-training-dataset-2017-12-02/problem00003\\\\candidate00001', 'pan18-cross-domain-authorship-attribution-training-dataset-2017-12-02/problem00003\\\\candidate00002', 'pan18-cross-domain-authorship-attribution-training-dataset-2017-12-02/problem00003\\\\candidate00003', 'pan18-cross-domain-authorship-attribution-training-dataset-2017-12-02/problem00003\\\\candidate00004', 'pan18-cross-domain-authorship-attribution-training-dataset-2017-12-02/problem00003\\\\candidate00005', 'pan18-cross-domain-authorship-attribution-training-dataset-2017-12-02/problem00003\\\\candidate00006', 'pan18-cross-domain-authorship-attribution-training-dataset-2017-12-02/problem00003\\\\candidate00007', 'pan18-cross-domain-authorship-attribution-training-dataset-2017-12-02/problem00003\\\\candidate00008', 'pan18-cross-domain-authorship-attribution-training-dataset-2017-12-02/problem00003\\\\candidate00009', 'pan18-cross-domain-authorship-attribution-training-dataset-2017-12-02/problem00003\\\\candidate00010', 'pan18-cross-domain-authorship-attribution-training-dataset-2017-12-02/problem00003\\\\candidate00011', 'pan18-cross-domain-authorship-attribution-training-dataset-2017-12-02/problem00003\\\\candidate00012', 'pan18-cross-domain-authorship-attribution-training-dataset-2017-12-02/problem00003\\\\candidate00013', 'pan18-cross-domain-authorship-attribution-training-dataset-2017-12-02/problem00003\\\\candidate00014', 'pan18-cross-domain-authorship-attribution-training-dataset-2017-12-02/problem00003\\\\candidate00015', 'pan18-cross-domain-authorship-attribution-training-dataset-2017-12-02/problem00003\\\\candidate00016', 'pan18-cross-domain-authorship-attribution-training-dataset-2017-12-02/problem00003\\\\candidate00017', 'pan18-cross-domain-authorship-attribution-training-dataset-2017-12-02/problem00003\\\\candidate00018', 'pan18-cross-domain-authorship-attribution-training-dataset-2017-12-02/problem00003\\\\candidate00019', 'pan18-cross-domain-authorship-attribution-training-dataset-2017-12-02/problem00003\\\\candidate00020', 'pan18-cross-domain-authorship-attribution-training-dataset-2017-12-02/problem00003\\\\unknown']\n",
      "Problemdeki Dosyalar: ['known00001.txt', 'known00002.txt', 'known00003.txt', 'known00004.txt', 'known00005.txt', 'known00006.txt', 'known00007.txt']\n",
      "Problemdeki Dosyalar: ['known00001.txt', 'known00002.txt', 'known00003.txt', 'known00004.txt', 'known00005.txt', 'known00006.txt', 'known00007.txt']\n",
      "Problemdeki Dosyalar: ['known00001.txt', 'known00002.txt', 'known00003.txt', 'known00004.txt', 'known00005.txt', 'known00006.txt', 'known00007.txt']\n",
      "Problemdeki Dosyalar: ['known00001.txt', 'known00002.txt', 'known00003.txt', 'known00004.txt', 'known00005.txt', 'known00006.txt', 'known00007.txt']\n",
      "Problemdeki Dosyalar: ['known00001.txt', 'known00002.txt', 'known00003.txt', 'known00004.txt', 'known00005.txt', 'known00006.txt', 'known00007.txt']\n",
      "Problemdeki Dosyalar: ['known00001.txt', 'known00002.txt', 'known00003.txt', 'known00004.txt', 'known00005.txt', 'known00006.txt', 'known00007.txt']\n",
      "Problemdeki Dosyalar: ['known00001.txt', 'known00002.txt', 'known00003.txt', 'known00004.txt', 'known00005.txt', 'known00006.txt', 'known00007.txt']\n",
      "Problemdeki Dosyalar: ['known00001.txt', 'known00002.txt', 'known00003.txt', 'known00004.txt', 'known00005.txt', 'known00006.txt', 'known00007.txt']\n",
      "Problemdeki Dosyalar: ['known00001.txt', 'known00002.txt', 'known00003.txt', 'known00004.txt', 'known00005.txt', 'known00006.txt', 'known00007.txt']\n",
      "Problemdeki Dosyalar: ['known00001.txt', 'known00002.txt', 'known00003.txt', 'known00004.txt', 'known00005.txt', 'known00006.txt', 'known00007.txt']\n",
      "Problemdeki Dosyalar: ['known00001.txt', 'known00002.txt', 'known00003.txt', 'known00004.txt', 'known00005.txt', 'known00006.txt', 'known00007.txt']\n",
      "Problemdeki Dosyalar: ['known00001.txt', 'known00002.txt', 'known00003.txt', 'known00004.txt', 'known00005.txt', 'known00006.txt', 'known00007.txt']\n",
      "Problemdeki Dosyalar: ['known00001.txt', 'known00002.txt', 'known00003.txt', 'known00004.txt', 'known00005.txt', 'known00006.txt', 'known00007.txt']\n",
      "Problemdeki Dosyalar: ['known00001.txt', 'known00002.txt', 'known00003.txt', 'known00004.txt', 'known00005.txt', 'known00006.txt', 'known00007.txt']\n",
      "Problemdeki Dosyalar: ['known00001.txt', 'known00002.txt', 'known00003.txt', 'known00004.txt', 'known00005.txt', 'known00006.txt', 'known00007.txt']\n",
      "Problemdeki Dosyalar: ['known00001.txt', 'known00002.txt', 'known00003.txt', 'known00004.txt', 'known00005.txt', 'known00006.txt', 'known00007.txt']\n",
      "Problemdeki Dosyalar: ['known00001.txt', 'known00002.txt', 'known00003.txt', 'known00004.txt', 'known00005.txt', 'known00006.txt', 'known00007.txt']\n",
      "Problemdeki Dosyalar: ['known00001.txt', 'known00002.txt', 'known00003.txt', 'known00004.txt', 'known00005.txt', 'known00006.txt', 'known00007.txt']\n",
      "Problemdeki Dosyalar: ['known00001.txt', 'known00002.txt', 'known00003.txt', 'known00004.txt', 'known00005.txt', 'known00006.txt', 'known00007.txt']\n",
      "Problemdeki Dosyalar: ['known00001.txt', 'known00002.txt', 'known00003.txt', 'known00004.txt', 'known00005.txt', 'known00006.txt', 'known00007.txt']\n",
      "Problemdeki Dosyalar: ['unknown00001.txt', 'unknown00002.txt', 'unknown00003.txt', 'unknown00004.txt', 'unknown00005.txt', 'unknown00006.txt', 'unknown00007.txt', 'unknown00008.txt', 'unknown00009.txt', 'unknown00010.txt', 'unknown00011.txt', 'unknown00012.txt', 'unknown00013.txt', 'unknown00014.txt', 'unknown00015.txt', 'unknown00016.txt', 'unknown00017.txt', 'unknown00018.txt', 'unknown00019.txt', 'unknown00020.txt', 'unknown00021.txt', 'unknown00022.txt', 'unknown00023.txt', 'unknown00024.txt', 'unknown00025.txt', 'unknown00026.txt', 'unknown00027.txt', 'unknown00028.txt', 'unknown00029.txt', 'unknown00030.txt', 'unknown00031.txt', 'unknown00032.txt', 'unknown00033.txt', 'unknown00034.txt', 'unknown00035.txt', 'unknown00036.txt', 'unknown00037.txt', 'unknown00038.txt', 'unknown00039.txt', 'unknown00040.txt', 'unknown00041.txt', 'unknown00042.txt', 'unknown00043.txt', 'unknown00044.txt', 'unknown00045.txt', 'unknown00046.txt', 'unknown00047.txt', 'unknown00048.txt', 'unknown00049.txt']\n",
      "Problem Klasörleri: ['pan18-cross-domain-authorship-attribution-training-dataset-2017-12-02/problem00004\\\\candidate00001', 'pan18-cross-domain-authorship-attribution-training-dataset-2017-12-02/problem00004\\\\candidate00002', 'pan18-cross-domain-authorship-attribution-training-dataset-2017-12-02/problem00004\\\\candidate00003', 'pan18-cross-domain-authorship-attribution-training-dataset-2017-12-02/problem00004\\\\candidate00004', 'pan18-cross-domain-authorship-attribution-training-dataset-2017-12-02/problem00004\\\\candidate00005', 'pan18-cross-domain-authorship-attribution-training-dataset-2017-12-02/problem00004\\\\unknown']\n",
      "Problemdeki Dosyalar: ['known00001.txt', 'known00002.txt', 'known00003.txt', 'known00004.txt', 'known00005.txt', 'known00006.txt', 'known00007.txt']\n",
      "Problemdeki Dosyalar: ['known00001.txt', 'known00002.txt', 'known00003.txt', 'known00004.txt', 'known00005.txt', 'known00006.txt', 'known00007.txt']\n",
      "Problemdeki Dosyalar: ['known00001.txt', 'known00002.txt', 'known00003.txt', 'known00004.txt', 'known00005.txt', 'known00006.txt', 'known00007.txt']\n",
      "Problemdeki Dosyalar: ['known00001.txt', 'known00002.txt', 'known00003.txt', 'known00004.txt', 'known00005.txt', 'known00006.txt', 'known00007.txt']\n",
      "Problemdeki Dosyalar: ['known00001.txt', 'known00002.txt', 'known00003.txt', 'known00004.txt', 'known00005.txt', 'known00006.txt', 'known00007.txt']\n",
      "Problemdeki Dosyalar: ['unknown00001.txt', 'unknown00002.txt', 'unknown00003.txt', 'unknown00004.txt', 'unknown00005.txt', 'unknown00006.txt', 'unknown00007.txt', 'unknown00008.txt', 'unknown00009.txt', 'unknown00010.txt', 'unknown00011.txt', 'unknown00012.txt', 'unknown00013.txt', 'unknown00014.txt', 'unknown00015.txt', 'unknown00016.txt', 'unknown00017.txt', 'unknown00018.txt', 'unknown00019.txt', 'unknown00020.txt', 'unknown00021.txt']\n",
      "Problem Klasörleri: ['pan18-cross-domain-authorship-attribution-training-dataset-2017-12-02/problem00005\\\\candidate00001', 'pan18-cross-domain-authorship-attribution-training-dataset-2017-12-02/problem00005\\\\candidate00002', 'pan18-cross-domain-authorship-attribution-training-dataset-2017-12-02/problem00005\\\\candidate00003', 'pan18-cross-domain-authorship-attribution-training-dataset-2017-12-02/problem00005\\\\candidate00004', 'pan18-cross-domain-authorship-attribution-training-dataset-2017-12-02/problem00005\\\\candidate00005', 'pan18-cross-domain-authorship-attribution-training-dataset-2017-12-02/problem00005\\\\candidate00006', 'pan18-cross-domain-authorship-attribution-training-dataset-2017-12-02/problem00005\\\\candidate00007', 'pan18-cross-domain-authorship-attribution-training-dataset-2017-12-02/problem00005\\\\candidate00008', 'pan18-cross-domain-authorship-attribution-training-dataset-2017-12-02/problem00005\\\\candidate00009', 'pan18-cross-domain-authorship-attribution-training-dataset-2017-12-02/problem00005\\\\candidate00010', 'pan18-cross-domain-authorship-attribution-training-dataset-2017-12-02/problem00005\\\\candidate00011', 'pan18-cross-domain-authorship-attribution-training-dataset-2017-12-02/problem00005\\\\candidate00012', 'pan18-cross-domain-authorship-attribution-training-dataset-2017-12-02/problem00005\\\\candidate00013', 'pan18-cross-domain-authorship-attribution-training-dataset-2017-12-02/problem00005\\\\candidate00014', 'pan18-cross-domain-authorship-attribution-training-dataset-2017-12-02/problem00005\\\\candidate00015', 'pan18-cross-domain-authorship-attribution-training-dataset-2017-12-02/problem00005\\\\candidate00016', 'pan18-cross-domain-authorship-attribution-training-dataset-2017-12-02/problem00005\\\\candidate00017', 'pan18-cross-domain-authorship-attribution-training-dataset-2017-12-02/problem00005\\\\candidate00018', 'pan18-cross-domain-authorship-attribution-training-dataset-2017-12-02/problem00005\\\\candidate00019', 'pan18-cross-domain-authorship-attribution-training-dataset-2017-12-02/problem00005\\\\candidate00020', 'pan18-cross-domain-authorship-attribution-training-dataset-2017-12-02/problem00005\\\\unknown']\n",
      "Problemdeki Dosyalar: ['known00001.txt', 'known00002.txt', 'known00003.txt', 'known00004.txt', 'known00005.txt', 'known00006.txt', 'known00007.txt']\n",
      "Problemdeki Dosyalar: ['known00001.txt', 'known00002.txt', 'known00003.txt', 'known00004.txt', 'known00005.txt', 'known00006.txt', 'known00007.txt']\n",
      "Problemdeki Dosyalar: ['known00001.txt', 'known00002.txt', 'known00003.txt', 'known00004.txt', 'known00005.txt', 'known00006.txt', 'known00007.txt']\n",
      "Problemdeki Dosyalar: ['known00001.txt', 'known00002.txt', 'known00003.txt', 'known00004.txt', 'known00005.txt', 'known00006.txt', 'known00007.txt']\n",
      "Problemdeki Dosyalar: ['known00001.txt', 'known00002.txt', 'known00003.txt', 'known00004.txt', 'known00005.txt', 'known00006.txt', 'known00007.txt']\n",
      "Problemdeki Dosyalar: ['known00001.txt', 'known00002.txt', 'known00003.txt', 'known00004.txt', 'known00005.txt', 'known00006.txt', 'known00007.txt']\n",
      "Problemdeki Dosyalar: ['known00001.txt', 'known00002.txt', 'known00003.txt', 'known00004.txt', 'known00005.txt', 'known00006.txt', 'known00007.txt']\n",
      "Problemdeki Dosyalar: ['known00001.txt', 'known00002.txt', 'known00003.txt', 'known00004.txt', 'known00005.txt', 'known00006.txt', 'known00007.txt']\n",
      "Problemdeki Dosyalar: ['known00001.txt', 'known00002.txt', 'known00003.txt', 'known00004.txt', 'known00005.txt', 'known00006.txt', 'known00007.txt']\n",
      "Problemdeki Dosyalar: ['known00001.txt', 'known00002.txt', 'known00003.txt', 'known00004.txt', 'known00005.txt', 'known00006.txt', 'known00007.txt']\n",
      "Problemdeki Dosyalar: ['known00001.txt', 'known00002.txt', 'known00003.txt', 'known00004.txt', 'known00005.txt', 'known00006.txt', 'known00007.txt']\n",
      "Problemdeki Dosyalar: ['known00001.txt', 'known00002.txt', 'known00003.txt', 'known00004.txt', 'known00005.txt', 'known00006.txt', 'known00007.txt']\n",
      "Problemdeki Dosyalar: ['known00001.txt', 'known00002.txt', 'known00003.txt', 'known00004.txt', 'known00005.txt', 'known00006.txt', 'known00007.txt']\n",
      "Problemdeki Dosyalar: ['known00001.txt', 'known00002.txt', 'known00003.txt', 'known00004.txt', 'known00005.txt', 'known00006.txt', 'known00007.txt']\n",
      "Problemdeki Dosyalar: ['known00001.txt', 'known00002.txt', 'known00003.txt', 'known00004.txt', 'known00005.txt', 'known00006.txt', 'known00007.txt']\n",
      "Problemdeki Dosyalar: ['known00001.txt', 'known00002.txt', 'known00003.txt', 'known00004.txt', 'known00005.txt', 'known00006.txt', 'known00007.txt']\n",
      "Problemdeki Dosyalar: ['known00001.txt', 'known00002.txt', 'known00003.txt', 'known00004.txt', 'known00005.txt', 'known00006.txt', 'known00007.txt']\n",
      "Problemdeki Dosyalar: ['known00001.txt', 'known00002.txt', 'known00003.txt', 'known00004.txt', 'known00005.txt', 'known00006.txt', 'known00007.txt']\n",
      "Problemdeki Dosyalar: ['known00001.txt', 'known00002.txt', 'known00003.txt', 'known00004.txt', 'known00005.txt', 'known00006.txt', 'known00007.txt']\n",
      "Problemdeki Dosyalar: ['known00001.txt', 'known00002.txt', 'known00003.txt', 'known00004.txt', 'known00005.txt', 'known00006.txt', 'known00007.txt']\n",
      "Problemdeki Dosyalar: ['unknown00001.txt', 'unknown00002.txt', 'unknown00003.txt', 'unknown00004.txt', 'unknown00005.txt', 'unknown00006.txt', 'unknown00007.txt', 'unknown00008.txt', 'unknown00009.txt', 'unknown00010.txt', 'unknown00011.txt', 'unknown00012.txt', 'unknown00013.txt', 'unknown00014.txt', 'unknown00015.txt', 'unknown00016.txt', 'unknown00017.txt', 'unknown00018.txt', 'unknown00019.txt', 'unknown00020.txt', 'unknown00021.txt', 'unknown00022.txt', 'unknown00023.txt', 'unknown00024.txt', 'unknown00025.txt', 'unknown00026.txt', 'unknown00027.txt', 'unknown00028.txt', 'unknown00029.txt', 'unknown00030.txt', 'unknown00031.txt', 'unknown00032.txt', 'unknown00033.txt', 'unknown00034.txt', 'unknown00035.txt', 'unknown00036.txt', 'unknown00037.txt', 'unknown00038.txt', 'unknown00039.txt', 'unknown00040.txt', 'unknown00041.txt', 'unknown00042.txt', 'unknown00043.txt', 'unknown00044.txt', 'unknown00045.txt', 'unknown00046.txt', 'unknown00047.txt', 'unknown00048.txt', 'unknown00049.txt', 'unknown00050.txt', 'unknown00051.txt', 'unknown00052.txt', 'unknown00053.txt', 'unknown00054.txt', 'unknown00055.txt', 'unknown00056.txt', 'unknown00057.txt', 'unknown00058.txt', 'unknown00059.txt', 'unknown00060.txt', 'unknown00061.txt', 'unknown00062.txt', 'unknown00063.txt', 'unknown00064.txt', 'unknown00065.txt', 'unknown00066.txt', 'unknown00067.txt', 'unknown00068.txt', 'unknown00069.txt', 'unknown00070.txt', 'unknown00071.txt', 'unknown00072.txt', 'unknown00073.txt', 'unknown00074.txt', 'unknown00075.txt', 'unknown00076.txt', 'unknown00077.txt', 'unknown00078.txt', 'unknown00079.txt', 'unknown00080.txt']\n",
      "Problem Klasörleri: ['pan18-cross-domain-authorship-attribution-training-dataset-2017-12-02/problem00006\\\\candidate00001', 'pan18-cross-domain-authorship-attribution-training-dataset-2017-12-02/problem00006\\\\candidate00002', 'pan18-cross-domain-authorship-attribution-training-dataset-2017-12-02/problem00006\\\\candidate00003', 'pan18-cross-domain-authorship-attribution-training-dataset-2017-12-02/problem00006\\\\candidate00004', 'pan18-cross-domain-authorship-attribution-training-dataset-2017-12-02/problem00006\\\\candidate00005', 'pan18-cross-domain-authorship-attribution-training-dataset-2017-12-02/problem00006\\\\unknown']\n",
      "Problemdeki Dosyalar: ['known00001.txt', 'known00002.txt', 'known00003.txt', 'known00004.txt', 'known00005.txt', 'known00006.txt', 'known00007.txt']\n",
      "Problemdeki Dosyalar: ['known00001.txt', 'known00002.txt', 'known00003.txt', 'known00004.txt', 'known00005.txt', 'known00006.txt', 'known00007.txt']\n",
      "Problemdeki Dosyalar: ['known00001.txt', 'known00002.txt', 'known00003.txt', 'known00004.txt', 'known00005.txt', 'known00006.txt', 'known00007.txt']\n",
      "Problemdeki Dosyalar: ['known00001.txt', 'known00002.txt', 'known00003.txt', 'known00004.txt', 'known00005.txt', 'known00006.txt', 'known00007.txt']\n",
      "Problemdeki Dosyalar: ['known00001.txt', 'known00002.txt', 'known00003.txt', 'known00004.txt', 'known00005.txt', 'known00006.txt', 'known00007.txt']\n",
      "Problemdeki Dosyalar: ['unknown00001.txt', 'unknown00002.txt', 'unknown00003.txt', 'unknown00004.txt', 'unknown00005.txt', 'unknown00006.txt', 'unknown00007.txt', 'unknown00008.txt', 'unknown00009.txt', 'unknown00010.txt', 'unknown00011.txt', 'unknown00012.txt', 'unknown00013.txt', 'unknown00014.txt', 'unknown00015.txt', 'unknown00016.txt', 'unknown00017.txt', 'unknown00018.txt', 'unknown00019.txt', 'unknown00020.txt', 'unknown00021.txt', 'unknown00022.txt', 'unknown00023.txt', 'unknown00024.txt', 'unknown00025.txt', 'unknown00026.txt', 'unknown00027.txt', 'unknown00028.txt', 'unknown00029.txt', 'unknown00030.txt', 'unknown00031.txt', 'unknown00032.txt', 'unknown00033.txt', 'unknown00034.txt', 'unknown00035.txt', 'unknown00036.txt', 'unknown00037.txt', 'unknown00038.txt', 'unknown00039.txt', 'unknown00040.txt', 'unknown00041.txt', 'unknown00042.txt', 'unknown00043.txt', 'unknown00044.txt', 'unknown00045.txt', 'unknown00046.txt']\n",
      "Problem Klasörleri: ['pan18-cross-domain-authorship-attribution-training-dataset-2017-12-02/problem00007\\\\candidate00001', 'pan18-cross-domain-authorship-attribution-training-dataset-2017-12-02/problem00007\\\\candidate00002', 'pan18-cross-domain-authorship-attribution-training-dataset-2017-12-02/problem00007\\\\candidate00003', 'pan18-cross-domain-authorship-attribution-training-dataset-2017-12-02/problem00007\\\\candidate00004', 'pan18-cross-domain-authorship-attribution-training-dataset-2017-12-02/problem00007\\\\candidate00005', 'pan18-cross-domain-authorship-attribution-training-dataset-2017-12-02/problem00007\\\\candidate00006', 'pan18-cross-domain-authorship-attribution-training-dataset-2017-12-02/problem00007\\\\candidate00007', 'pan18-cross-domain-authorship-attribution-training-dataset-2017-12-02/problem00007\\\\candidate00008', 'pan18-cross-domain-authorship-attribution-training-dataset-2017-12-02/problem00007\\\\candidate00009', 'pan18-cross-domain-authorship-attribution-training-dataset-2017-12-02/problem00007\\\\candidate00010', 'pan18-cross-domain-authorship-attribution-training-dataset-2017-12-02/problem00007\\\\candidate00011', 'pan18-cross-domain-authorship-attribution-training-dataset-2017-12-02/problem00007\\\\candidate00012', 'pan18-cross-domain-authorship-attribution-training-dataset-2017-12-02/problem00007\\\\candidate00013', 'pan18-cross-domain-authorship-attribution-training-dataset-2017-12-02/problem00007\\\\candidate00014', 'pan18-cross-domain-authorship-attribution-training-dataset-2017-12-02/problem00007\\\\candidate00015', 'pan18-cross-domain-authorship-attribution-training-dataset-2017-12-02/problem00007\\\\candidate00016', 'pan18-cross-domain-authorship-attribution-training-dataset-2017-12-02/problem00007\\\\candidate00017', 'pan18-cross-domain-authorship-attribution-training-dataset-2017-12-02/problem00007\\\\candidate00018', 'pan18-cross-domain-authorship-attribution-training-dataset-2017-12-02/problem00007\\\\candidate00019', 'pan18-cross-domain-authorship-attribution-training-dataset-2017-12-02/problem00007\\\\candidate00020', 'pan18-cross-domain-authorship-attribution-training-dataset-2017-12-02/problem00007\\\\unknown']\n",
      "Problemdeki Dosyalar: ['known00001.txt', 'known00002.txt', 'known00003.txt', 'known00004.txt', 'known00005.txt', 'known00006.txt', 'known00007.txt']\n",
      "Problemdeki Dosyalar: ['known00001.txt', 'known00002.txt', 'known00003.txt', 'known00004.txt', 'known00005.txt', 'known00006.txt', 'known00007.txt']\n",
      "Problemdeki Dosyalar: ['known00001.txt', 'known00002.txt', 'known00003.txt', 'known00004.txt', 'known00005.txt', 'known00006.txt', 'known00007.txt']\n",
      "Problemdeki Dosyalar: ['known00001.txt', 'known00002.txt', 'known00003.txt', 'known00004.txt', 'known00005.txt', 'known00006.txt', 'known00007.txt']\n",
      "Problemdeki Dosyalar: ['known00001.txt', 'known00002.txt', 'known00003.txt', 'known00004.txt', 'known00005.txt', 'known00006.txt', 'known00007.txt']\n",
      "Problemdeki Dosyalar: ['known00001.txt', 'known00002.txt', 'known00003.txt', 'known00004.txt', 'known00005.txt', 'known00006.txt', 'known00007.txt']\n",
      "Problemdeki Dosyalar: ['known00001.txt', 'known00002.txt', 'known00003.txt', 'known00004.txt', 'known00005.txt', 'known00006.txt', 'known00007.txt']\n",
      "Problemdeki Dosyalar: ['known00001.txt', 'known00002.txt', 'known00003.txt', 'known00004.txt', 'known00005.txt', 'known00006.txt', 'known00007.txt']\n",
      "Problemdeki Dosyalar: ['known00001.txt', 'known00002.txt', 'known00003.txt', 'known00004.txt', 'known00005.txt', 'known00006.txt', 'known00007.txt']\n",
      "Problemdeki Dosyalar: ['known00001.txt', 'known00002.txt', 'known00003.txt', 'known00004.txt', 'known00005.txt', 'known00006.txt', 'known00007.txt']\n",
      "Problemdeki Dosyalar: ['known00001.txt', 'known00002.txt', 'known00003.txt', 'known00004.txt', 'known00005.txt', 'known00006.txt', 'known00007.txt']\n",
      "Problemdeki Dosyalar: ['known00001.txt', 'known00002.txt', 'known00003.txt', 'known00004.txt', 'known00005.txt', 'known00006.txt', 'known00007.txt']\n",
      "Problemdeki Dosyalar: ['known00001.txt', 'known00002.txt', 'known00003.txt', 'known00004.txt', 'known00005.txt', 'known00006.txt', 'known00007.txt']\n",
      "Problemdeki Dosyalar: ['known00001.txt', 'known00002.txt', 'known00003.txt', 'known00004.txt', 'known00005.txt', 'known00006.txt', 'known00007.txt']\n",
      "Problemdeki Dosyalar: ['known00001.txt', 'known00002.txt', 'known00003.txt', 'known00004.txt', 'known00005.txt', 'known00006.txt', 'known00007.txt']\n",
      "Problemdeki Dosyalar: ['known00001.txt', 'known00002.txt', 'known00003.txt', 'known00004.txt', 'known00005.txt', 'known00006.txt', 'known00007.txt']\n",
      "Problemdeki Dosyalar: ['known00001.txt', 'known00002.txt', 'known00003.txt', 'known00004.txt', 'known00005.txt', 'known00006.txt', 'known00007.txt']\n",
      "Problemdeki Dosyalar: ['known00001.txt', 'known00002.txt', 'known00003.txt', 'known00004.txt', 'known00005.txt', 'known00006.txt', 'known00007.txt']\n",
      "Problemdeki Dosyalar: ['known00001.txt', 'known00002.txt', 'known00003.txt', 'known00004.txt', 'known00005.txt', 'known00006.txt', 'known00007.txt']\n",
      "Problemdeki Dosyalar: ['known00001.txt', 'known00002.txt', 'known00003.txt', 'known00004.txt', 'known00005.txt', 'known00006.txt', 'known00007.txt']\n",
      "Problemdeki Dosyalar: ['unknown00001.txt', 'unknown00002.txt', 'unknown00003.txt', 'unknown00004.txt', 'unknown00005.txt', 'unknown00006.txt', 'unknown00007.txt', 'unknown00008.txt', 'unknown00009.txt', 'unknown00010.txt', 'unknown00011.txt', 'unknown00012.txt', 'unknown00013.txt', 'unknown00014.txt', 'unknown00015.txt', 'unknown00016.txt', 'unknown00017.txt', 'unknown00018.txt', 'unknown00019.txt', 'unknown00020.txt', 'unknown00021.txt', 'unknown00022.txt', 'unknown00023.txt', 'unknown00024.txt', 'unknown00025.txt', 'unknown00026.txt', 'unknown00027.txt', 'unknown00028.txt', 'unknown00029.txt', 'unknown00030.txt', 'unknown00031.txt', 'unknown00032.txt', 'unknown00033.txt', 'unknown00034.txt', 'unknown00035.txt', 'unknown00036.txt', 'unknown00037.txt', 'unknown00038.txt', 'unknown00039.txt', 'unknown00040.txt', 'unknown00041.txt', 'unknown00042.txt', 'unknown00043.txt', 'unknown00044.txt', 'unknown00045.txt', 'unknown00046.txt', 'unknown00047.txt', 'unknown00048.txt', 'unknown00049.txt', 'unknown00050.txt', 'unknown00051.txt', 'unknown00052.txt', 'unknown00053.txt', 'unknown00054.txt', 'unknown00055.txt', 'unknown00056.txt', 'unknown00057.txt', 'unknown00058.txt', 'unknown00059.txt', 'unknown00060.txt', 'unknown00061.txt', 'unknown00062.txt', 'unknown00063.txt', 'unknown00064.txt', 'unknown00065.txt', 'unknown00066.txt', 'unknown00067.txt', 'unknown00068.txt', 'unknown00069.txt', 'unknown00070.txt', 'unknown00071.txt', 'unknown00072.txt', 'unknown00073.txt', 'unknown00074.txt', 'unknown00075.txt', 'unknown00076.txt', 'unknown00077.txt', 'unknown00078.txt', 'unknown00079.txt', 'unknown00080.txt', 'unknown00081.txt', 'unknown00082.txt', 'unknown00083.txt', 'unknown00084.txt', 'unknown00085.txt', 'unknown00086.txt', 'unknown00087.txt', 'unknown00088.txt', 'unknown00089.txt', 'unknown00090.txt', 'unknown00091.txt', 'unknown00092.txt', 'unknown00093.txt', 'unknown00094.txt', 'unknown00095.txt', 'unknown00096.txt', 'unknown00097.txt', 'unknown00098.txt', 'unknown00099.txt', 'unknown00100.txt', 'unknown00101.txt', 'unknown00102.txt', 'unknown00103.txt']\n",
      "Problem Klasörleri: ['pan18-cross-domain-authorship-attribution-training-dataset-2017-12-02/problem00008\\\\candidate00001', 'pan18-cross-domain-authorship-attribution-training-dataset-2017-12-02/problem00008\\\\candidate00002', 'pan18-cross-domain-authorship-attribution-training-dataset-2017-12-02/problem00008\\\\candidate00003', 'pan18-cross-domain-authorship-attribution-training-dataset-2017-12-02/problem00008\\\\candidate00004', 'pan18-cross-domain-authorship-attribution-training-dataset-2017-12-02/problem00008\\\\candidate00005', 'pan18-cross-domain-authorship-attribution-training-dataset-2017-12-02/problem00008\\\\unknown']\n",
      "Problemdeki Dosyalar: ['known00001.txt', 'known00002.txt', 'known00003.txt', 'known00004.txt', 'known00005.txt', 'known00006.txt', 'known00007.txt']\n",
      "Problemdeki Dosyalar: ['known00001.txt', 'known00002.txt', 'known00003.txt', 'known00004.txt', 'known00005.txt', 'known00006.txt', 'known00007.txt']\n",
      "Problemdeki Dosyalar: ['known00001.txt', 'known00002.txt', 'known00003.txt', 'known00004.txt', 'known00005.txt', 'known00006.txt', 'known00007.txt']\n",
      "Problemdeki Dosyalar: ['known00001.txt', 'known00002.txt', 'known00003.txt', 'known00004.txt', 'known00005.txt', 'known00006.txt', 'known00007.txt']\n",
      "Problemdeki Dosyalar: ['known00001.txt', 'known00002.txt', 'known00003.txt', 'known00004.txt', 'known00005.txt', 'known00006.txt', 'known00007.txt']\n",
      "Problemdeki Dosyalar: ['unknown00001.txt', 'unknown00002.txt', 'unknown00003.txt', 'unknown00004.txt', 'unknown00005.txt', 'unknown00006.txt', 'unknown00007.txt', 'unknown00008.txt', 'unknown00009.txt', 'unknown00010.txt', 'unknown00011.txt', 'unknown00012.txt', 'unknown00013.txt', 'unknown00014.txt', 'unknown00015.txt']\n",
      "Problem Klasörleri: ['pan18-cross-domain-authorship-attribution-training-dataset-2017-12-02/problem00009\\\\candidate00001', 'pan18-cross-domain-authorship-attribution-training-dataset-2017-12-02/problem00009\\\\candidate00002', 'pan18-cross-domain-authorship-attribution-training-dataset-2017-12-02/problem00009\\\\candidate00003', 'pan18-cross-domain-authorship-attribution-training-dataset-2017-12-02/problem00009\\\\candidate00004', 'pan18-cross-domain-authorship-attribution-training-dataset-2017-12-02/problem00009\\\\candidate00005', 'pan18-cross-domain-authorship-attribution-training-dataset-2017-12-02/problem00009\\\\candidate00006', 'pan18-cross-domain-authorship-attribution-training-dataset-2017-12-02/problem00009\\\\candidate00007', 'pan18-cross-domain-authorship-attribution-training-dataset-2017-12-02/problem00009\\\\candidate00008', 'pan18-cross-domain-authorship-attribution-training-dataset-2017-12-02/problem00009\\\\candidate00009', 'pan18-cross-domain-authorship-attribution-training-dataset-2017-12-02/problem00009\\\\candidate00010', 'pan18-cross-domain-authorship-attribution-training-dataset-2017-12-02/problem00009\\\\candidate00011', 'pan18-cross-domain-authorship-attribution-training-dataset-2017-12-02/problem00009\\\\candidate00012', 'pan18-cross-domain-authorship-attribution-training-dataset-2017-12-02/problem00009\\\\candidate00013', 'pan18-cross-domain-authorship-attribution-training-dataset-2017-12-02/problem00009\\\\candidate00014', 'pan18-cross-domain-authorship-attribution-training-dataset-2017-12-02/problem00009\\\\candidate00015', 'pan18-cross-domain-authorship-attribution-training-dataset-2017-12-02/problem00009\\\\candidate00016', 'pan18-cross-domain-authorship-attribution-training-dataset-2017-12-02/problem00009\\\\candidate00017', 'pan18-cross-domain-authorship-attribution-training-dataset-2017-12-02/problem00009\\\\candidate00018', 'pan18-cross-domain-authorship-attribution-training-dataset-2017-12-02/problem00009\\\\candidate00019', 'pan18-cross-domain-authorship-attribution-training-dataset-2017-12-02/problem00009\\\\candidate00020', 'pan18-cross-domain-authorship-attribution-training-dataset-2017-12-02/problem00009\\\\unknown']\n",
      "Problemdeki Dosyalar: ['known00001.txt', 'known00002.txt', 'known00003.txt', 'known00004.txt', 'known00005.txt', 'known00006.txt', 'known00007.txt']\n",
      "Problemdeki Dosyalar: ['known00001.txt', 'known00002.txt', 'known00003.txt', 'known00004.txt', 'known00005.txt', 'known00006.txt', 'known00007.txt']\n",
      "Problemdeki Dosyalar: ['known00001.txt', 'known00002.txt', 'known00003.txt', 'known00004.txt', 'known00005.txt', 'known00006.txt', 'known00007.txt']\n",
      "Problemdeki Dosyalar: ['known00001.txt', 'known00002.txt', 'known00003.txt', 'known00004.txt', 'known00005.txt', 'known00006.txt', 'known00007.txt']\n",
      "Problemdeki Dosyalar: ['known00001.txt', 'known00002.txt', 'known00003.txt', 'known00004.txt', 'known00005.txt', 'known00006.txt', 'known00007.txt']\n",
      "Problemdeki Dosyalar: ['known00001.txt', 'known00002.txt', 'known00003.txt', 'known00004.txt', 'known00005.txt', 'known00006.txt', 'known00007.txt']\n",
      "Problemdeki Dosyalar: ['known00001.txt', 'known00002.txt', 'known00003.txt', 'known00004.txt', 'known00005.txt', 'known00006.txt', 'known00007.txt']\n",
      "Problemdeki Dosyalar: ['known00001.txt', 'known00002.txt', 'known00003.txt', 'known00004.txt', 'known00005.txt', 'known00006.txt', 'known00007.txt']\n",
      "Problemdeki Dosyalar: ['known00001.txt', 'known00002.txt', 'known00003.txt', 'known00004.txt', 'known00005.txt', 'known00006.txt', 'known00007.txt']\n",
      "Problemdeki Dosyalar: ['known00001.txt', 'known00002.txt', 'known00003.txt', 'known00004.txt', 'known00005.txt', 'known00006.txt', 'known00007.txt']\n",
      "Problemdeki Dosyalar: ['known00001.txt', 'known00002.txt', 'known00003.txt', 'known00004.txt', 'known00005.txt', 'known00006.txt', 'known00007.txt']\n",
      "Problemdeki Dosyalar: ['known00001.txt', 'known00002.txt', 'known00003.txt', 'known00004.txt', 'known00005.txt', 'known00006.txt', 'known00007.txt']\n",
      "Problemdeki Dosyalar: ['known00001.txt', 'known00002.txt', 'known00003.txt', 'known00004.txt', 'known00005.txt', 'known00006.txt', 'known00007.txt']\n",
      "Problemdeki Dosyalar: ['known00001.txt', 'known00002.txt', 'known00003.txt', 'known00004.txt', 'known00005.txt', 'known00006.txt', 'known00007.txt']\n",
      "Problemdeki Dosyalar: ['known00001.txt', 'known00002.txt', 'known00003.txt', 'known00004.txt', 'known00005.txt', 'known00006.txt', 'known00007.txt']\n",
      "Problemdeki Dosyalar: ['known00001.txt', 'known00002.txt', 'known00003.txt', 'known00004.txt', 'known00005.txt', 'known00006.txt', 'known00007.txt']\n",
      "Problemdeki Dosyalar: ['known00001.txt', 'known00002.txt', 'known00003.txt', 'known00004.txt', 'known00005.txt', 'known00006.txt', 'known00007.txt']\n",
      "Problemdeki Dosyalar: ['known00001.txt', 'known00002.txt', 'known00003.txt', 'known00004.txt', 'known00005.txt', 'known00006.txt', 'known00007.txt']\n",
      "Problemdeki Dosyalar: ['known00001.txt', 'known00002.txt', 'known00003.txt', 'known00004.txt', 'known00005.txt', 'known00006.txt', 'known00007.txt']\n",
      "Problemdeki Dosyalar: ['known00001.txt', 'known00002.txt', 'known00003.txt', 'known00004.txt', 'known00005.txt', 'known00006.txt', 'known00007.txt']\n",
      "Problemdeki Dosyalar: ['unknown00001.txt', 'unknown00002.txt', 'unknown00003.txt', 'unknown00004.txt', 'unknown00005.txt', 'unknown00006.txt', 'unknown00007.txt', 'unknown00008.txt', 'unknown00009.txt', 'unknown00010.txt', 'unknown00011.txt', 'unknown00012.txt', 'unknown00013.txt', 'unknown00014.txt', 'unknown00015.txt', 'unknown00016.txt', 'unknown00017.txt', 'unknown00018.txt', 'unknown00019.txt', 'unknown00020.txt', 'unknown00021.txt', 'unknown00022.txt', 'unknown00023.txt', 'unknown00024.txt', 'unknown00025.txt', 'unknown00026.txt', 'unknown00027.txt', 'unknown00028.txt', 'unknown00029.txt', 'unknown00030.txt', 'unknown00031.txt', 'unknown00032.txt', 'unknown00033.txt', 'unknown00034.txt', 'unknown00035.txt', 'unknown00036.txt', 'unknown00037.txt', 'unknown00038.txt', 'unknown00039.txt', 'unknown00040.txt', 'unknown00041.txt', 'unknown00042.txt', 'unknown00043.txt', 'unknown00044.txt', 'unknown00045.txt', 'unknown00046.txt', 'unknown00047.txt', 'unknown00048.txt', 'unknown00049.txt', 'unknown00050.txt', 'unknown00051.txt', 'unknown00052.txt', 'unknown00053.txt', 'unknown00054.txt', 'unknown00055.txt', 'unknown00056.txt', 'unknown00057.txt', 'unknown00058.txt', 'unknown00059.txt', 'unknown00060.txt', 'unknown00061.txt', 'unknown00062.txt', 'unknown00063.txt', 'unknown00064.txt', 'unknown00065.txt', 'unknown00066.txt', 'unknown00067.txt', 'unknown00068.txt', 'unknown00069.txt', 'unknown00070.txt', 'unknown00071.txt', 'unknown00072.txt', 'unknown00073.txt', 'unknown00074.txt', 'unknown00075.txt', 'unknown00076.txt', 'unknown00077.txt', 'unknown00078.txt', 'unknown00079.txt', 'unknown00080.txt', 'unknown00081.txt', 'unknown00082.txt', 'unknown00083.txt', 'unknown00084.txt', 'unknown00085.txt', 'unknown00086.txt', 'unknown00087.txt', 'unknown00088.txt', 'unknown00089.txt', 'unknown00090.txt', 'unknown00091.txt', 'unknown00092.txt', 'unknown00093.txt', 'unknown00094.txt', 'unknown00095.txt', 'unknown00096.txt', 'unknown00097.txt', 'unknown00098.txt', 'unknown00099.txt', 'unknown00100.txt', 'unknown00101.txt', 'unknown00102.txt', 'unknown00103.txt', 'unknown00104.txt', 'unknown00105.txt', 'unknown00106.txt', 'unknown00107.txt', 'unknown00108.txt', 'unknown00109.txt', 'unknown00110.txt', 'unknown00111.txt', 'unknown00112.txt', 'unknown00113.txt', 'unknown00114.txt', 'unknown00115.txt', 'unknown00116.txt', 'unknown00117.txt']\n",
      "Problem Klasörleri: ['pan18-cross-domain-authorship-attribution-training-dataset-2017-12-02/problem00010\\\\candidate00001', 'pan18-cross-domain-authorship-attribution-training-dataset-2017-12-02/problem00010\\\\candidate00002', 'pan18-cross-domain-authorship-attribution-training-dataset-2017-12-02/problem00010\\\\candidate00003', 'pan18-cross-domain-authorship-attribution-training-dataset-2017-12-02/problem00010\\\\candidate00004', 'pan18-cross-domain-authorship-attribution-training-dataset-2017-12-02/problem00010\\\\candidate00005', 'pan18-cross-domain-authorship-attribution-training-dataset-2017-12-02/problem00010\\\\unknown']\n",
      "Problemdeki Dosyalar: ['known00001.txt', 'known00002.txt', 'known00003.txt', 'known00004.txt', 'known00005.txt', 'known00006.txt', 'known00007.txt']\n",
      "Problemdeki Dosyalar: ['known00001.txt', 'known00002.txt', 'known00003.txt', 'known00004.txt', 'known00005.txt', 'known00006.txt', 'known00007.txt']\n",
      "Problemdeki Dosyalar: ['known00001.txt', 'known00002.txt', 'known00003.txt', 'known00004.txt', 'known00005.txt', 'known00006.txt', 'known00007.txt']\n",
      "Problemdeki Dosyalar: ['known00001.txt', 'known00002.txt', 'known00003.txt', 'known00004.txt', 'known00005.txt', 'known00006.txt', 'known00007.txt']\n",
      "Problemdeki Dosyalar: ['known00001.txt', 'known00002.txt', 'known00003.txt', 'known00004.txt', 'known00005.txt', 'known00006.txt', 'known00007.txt']\n",
      "Problemdeki Dosyalar: ['unknown00001.txt', 'unknown00002.txt', 'unknown00003.txt', 'unknown00004.txt', 'unknown00005.txt', 'unknown00006.txt', 'unknown00007.txt', 'unknown00008.txt', 'unknown00009.txt', 'unknown00010.txt', 'unknown00011.txt', 'unknown00012.txt', 'unknown00013.txt', 'unknown00014.txt', 'unknown00015.txt', 'unknown00016.txt', 'unknown00017.txt', 'unknown00018.txt', 'unknown00019.txt', 'unknown00020.txt', 'unknown00021.txt', 'unknown00022.txt', 'unknown00023.txt', 'unknown00024.txt', 'unknown00025.txt', 'unknown00026.txt', 'unknown00027.txt', 'unknown00028.txt', 'unknown00029.txt', 'unknown00030.txt', 'unknown00031.txt', 'unknown00032.txt', 'unknown00033.txt', 'unknown00034.txt', 'unknown00035.txt', 'unknown00036.txt', 'unknown00037.txt', 'unknown00038.txt', 'unknown00039.txt', 'unknown00040.txt', 'unknown00041.txt', 'unknown00042.txt', 'unknown00043.txt', 'unknown00044.txt', 'unknown00045.txt', 'unknown00046.txt', 'unknown00047.txt', 'unknown00048.txt', 'unknown00049.txt', 'unknown00050.txt', 'unknown00051.txt', 'unknown00052.txt', 'unknown00053.txt', 'unknown00054.txt', 'unknown00055.txt', 'unknown00056.txt', 'unknown00057.txt', 'unknown00058.txt', 'unknown00059.txt', 'unknown00060.txt', 'unknown00061.txt', 'unknown00062.txt', 'unknown00063.txt', 'unknown00064.txt']\n"
     ]
    }
   ],
   "source": [
    "import os\n",
    "import pandas as pd\n",
    "\n",
    "# Eğitim veri setinin yolu\n",
    "for j in range (1,11):\n",
    "    if j!=10:\n",
    "        training_dataset_path = 'pan18-cross-domain-authorship-attribution-training-dataset-2017-12-02/problem0000' + str(j)\n",
    "\n",
    "        # Tüm problem klasörlerini listeleme\n",
    "        problems = [os.path.join(training_dataset_path, d) for d in os.listdir(training_dataset_path) if os.path.isdir(os.path.join(training_dataset_path, d))]\n",
    "        print(\"Problem Klasörleri:\", problems)  # İlk 5 klasörü göster\n",
    "\n",
    "        # İlk problem klasöründen dosyaları okuma\n",
    "        for i in range(0,len(problems)):\n",
    "            problem_path = problems[i]\n",
    "            files = os.listdir(problem_path)\n",
    "            print(\"Problemdeki Dosyalar:\", files)\n",
    "            # Makale içeriği ve yazar bilgisini okuma\n",
    "            for file_name in files:\n",
    "                file_path = os.path.join(problem_path, file_name)\n",
    "                with open(file_path, 'r', encoding='utf-8') as f:\n",
    "                    content = f.read()\n",
    "                author = problem_path.split(os.sep)[-1]  # Dosya adından yazarı alıyoruz\n",
    "                articles.append({\"file_name\": file_name, \"content\": content, \"author\": author})\n",
    "    else:\n",
    "        training_dataset_path = 'pan18-cross-domain-authorship-attribution-training-dataset-2017-12-02/problem00010'\n",
    "\n",
    "        # Tüm problem klasörlerini listeleme\n",
    "        problems = [os.path.join(training_dataset_path, d) for d in os.listdir(training_dataset_path) if os.path.isdir(os.path.join(training_dataset_path, d))]\n",
    "        print(\"Problem Klasörleri:\", problems)  # İlk 5 klasörü göster\n",
    "\n",
    "        # İlk problem klasöründen dosyaları okuma\n",
    "        for i in range(0,len(problems)):\n",
    "            problem_path = problems[i]\n",
    "            files = os.listdir(problem_path)\n",
    "            print(\"Problemdeki Dosyalar:\", files)\n",
    "            # Makale içeriği ve yazar bilgisini okuma\n",
    "            for file_name in files:\n",
    "                file_path = os.path.join(problem_path, file_name)\n",
    "                with open(file_path, 'r', encoding='utf-8') as f:\n",
    "                    content = f.read()\n",
    "                author = problem_path.split(os.sep)[-1]  # Dosya adından yazarı alıyoruz\n",
    "                articles.append({\"file_name\": file_name, \"content\": content, \"author\": author})\n",
    "\n",
    "\n",
    "    "
   ]
  },
  {
   "cell_type": "code",
   "execution_count": 148,
   "id": "b6e5601051820c7",
   "metadata": {
    "ExecuteTime": {
     "end_time": "2024-12-28T19:12:43.187362Z",
     "start_time": "2024-12-28T19:12:43.180903Z"
    }
   },
   "outputs": [
    {
     "name": "stdout",
     "output_type": "stream",
     "text": [
      "        file_name                                            content  \\\n",
      "0  known00001.txt  graceful ones.\\n\\n\"One more,\" Marvelous said, ...   \n",
      "1  known00002.txt  before. If he can, he’ll remember a classmate ...   \n",
      "2  known00003.txt  she thought - he was in Team Baron only becaus...   \n",
      "3  known00004.txt  Zawame City’s no longer ‘home’ as it once was....   \n",
      "4  known00005.txt  1. He showered her with smiles the first time ...   \n",
      "\n",
      "           author  \n",
      "0  candidate00001  \n",
      "1  candidate00001  \n",
      "2  candidate00001  \n",
      "3  candidate00001  \n",
      "4  candidate00001  \n"
     ]
    }
   ],
   "source": [
    "# DataFrame ile organize etme\n",
    "df = pd.DataFrame(articles)\n",
    "print(df.head())"
   ]
  },
  {
   "cell_type": "code",
   "execution_count": 149,
   "id": "9cb12ff24f695103",
   "metadata": {
    "ExecuteTime": {
     "end_time": "2024-12-28T19:12:44.241456Z",
     "start_time": "2024-12-28T19:12:44.228241Z"
    }
   },
   "outputs": [
    {
     "data": {
      "text/html": [
       "<div>\n",
       "<style scoped>\n",
       "    .dataframe tbody tr th:only-of-type {\n",
       "        vertical-align: middle;\n",
       "    }\n",
       "\n",
       "    .dataframe tbody tr th {\n",
       "        vertical-align: top;\n",
       "    }\n",
       "\n",
       "    .dataframe thead th {\n",
       "        text-align: right;\n",
       "    }\n",
       "</style>\n",
       "<table border=\"1\" class=\"dataframe\">\n",
       "  <thead>\n",
       "    <tr style=\"text-align: right;\">\n",
       "      <th></th>\n",
       "      <th>count</th>\n",
       "      <th>unique</th>\n",
       "      <th>top</th>\n",
       "      <th>freq</th>\n",
       "    </tr>\n",
       "  </thead>\n",
       "  <tbody>\n",
       "    <tr>\n",
       "      <th>file_name</th>\n",
       "      <td>1496</td>\n",
       "      <td>124</td>\n",
       "      <td>known00001.txt</td>\n",
       "      <td>125</td>\n",
       "    </tr>\n",
       "    <tr>\n",
       "      <th>content</th>\n",
       "      <td>1496</td>\n",
       "      <td>1151</td>\n",
       "      <td>graceful ones.\\n\\n\"One more,\" Marvelous said, ...</td>\n",
       "      <td>2</td>\n",
       "    </tr>\n",
       "    <tr>\n",
       "      <th>author</th>\n",
       "      <td>1496</td>\n",
       "      <td>21</td>\n",
       "      <td>unknown</td>\n",
       "      <td>621</td>\n",
       "    </tr>\n",
       "  </tbody>\n",
       "</table>\n",
       "</div>"
      ],
      "text/plain": [
       "          count unique                                                top freq\n",
       "file_name  1496    124                                     known00001.txt  125\n",
       "content    1496   1151  graceful ones.\\n\\n\"One more,\" Marvelous said, ...    2\n",
       "author     1496     21                                            unknown  621"
      ]
     },
     "execution_count": 149,
     "metadata": {},
     "output_type": "execute_result"
    }
   ],
   "source": [
    "df.describe().T"
   ]
  },
  {
   "cell_type": "code",
   "execution_count": 150,
   "id": "f57915d6ac78e397",
   "metadata": {
    "ExecuteTime": {
     "end_time": "2024-12-28T19:12:45.302964Z",
     "start_time": "2024-12-28T19:12:45.296017Z"
    }
   },
   "outputs": [
    {
     "data": {
      "text/html": [
       "<div>\n",
       "<style scoped>\n",
       "    .dataframe tbody tr th:only-of-type {\n",
       "        vertical-align: middle;\n",
       "    }\n",
       "\n",
       "    .dataframe tbody tr th {\n",
       "        vertical-align: top;\n",
       "    }\n",
       "\n",
       "    .dataframe thead th {\n",
       "        text-align: right;\n",
       "    }\n",
       "</style>\n",
       "<table border=\"1\" class=\"dataframe\">\n",
       "  <thead>\n",
       "    <tr style=\"text-align: right;\">\n",
       "      <th></th>\n",
       "      <th>file_name</th>\n",
       "      <th>content</th>\n",
       "      <th>author</th>\n",
       "    </tr>\n",
       "  </thead>\n",
       "  <tbody>\n",
       "    <tr>\n",
       "      <th>0</th>\n",
       "      <td>known00001.txt</td>\n",
       "      <td>graceful ones.\\n\\n\"One more,\" Marvelous said, ...</td>\n",
       "      <td>candidate00001</td>\n",
       "    </tr>\n",
       "    <tr>\n",
       "      <th>1</th>\n",
       "      <td>known00002.txt</td>\n",
       "      <td>before. If he can, he’ll remember a classmate ...</td>\n",
       "      <td>candidate00001</td>\n",
       "    </tr>\n",
       "    <tr>\n",
       "      <th>2</th>\n",
       "      <td>known00003.txt</td>\n",
       "      <td>she thought - he was in Team Baron only becaus...</td>\n",
       "      <td>candidate00001</td>\n",
       "    </tr>\n",
       "    <tr>\n",
       "      <th>3</th>\n",
       "      <td>known00004.txt</td>\n",
       "      <td>Zawame City’s no longer ‘home’ as it once was....</td>\n",
       "      <td>candidate00001</td>\n",
       "    </tr>\n",
       "    <tr>\n",
       "      <th>4</th>\n",
       "      <td>known00005.txt</td>\n",
       "      <td>1. He showered her with smiles the first time ...</td>\n",
       "      <td>candidate00001</td>\n",
       "    </tr>\n",
       "  </tbody>\n",
       "</table>\n",
       "</div>"
      ],
      "text/plain": [
       "        file_name                                            content  \\\n",
       "0  known00001.txt  graceful ones.\\n\\n\"One more,\" Marvelous said, ...   \n",
       "1  known00002.txt  before. If he can, he’ll remember a classmate ...   \n",
       "2  known00003.txt  she thought - he was in Team Baron only becaus...   \n",
       "3  known00004.txt  Zawame City’s no longer ‘home’ as it once was....   \n",
       "4  known00005.txt  1. He showered her with smiles the first time ...   \n",
       "\n",
       "           author  \n",
       "0  candidate00001  \n",
       "1  candidate00001  \n",
       "2  candidate00001  \n",
       "3  candidate00001  \n",
       "4  candidate00001  "
      ]
     },
     "execution_count": 150,
     "metadata": {},
     "output_type": "execute_result"
    }
   ],
   "source": [
    "df.head()"
   ]
  },
  {
   "cell_type": "code",
   "execution_count": 140,
   "id": "78bb134ba29110b3",
   "metadata": {
    "ExecuteTime": {
     "end_time": "2024-12-28T19:09:38.537141Z",
     "start_time": "2024-12-28T19:08:57.753804Z"
    }
   },
   "outputs": [
    {
     "name": "stderr",
     "output_type": "stream",
     "text": [
      "[nltk_data] Downloading package punkt to\n",
      "[nltk_data]     C:\\Users\\acer\\AppData\\Roaming\\nltk_data...\n",
      "[nltk_data]   Package punkt is already up-to-date!\n",
      "[nltk_data] Downloading package stopwords to\n",
      "[nltk_data]     C:\\Users\\acer\\AppData\\Roaming\\nltk_data...\n",
      "[nltk_data]   Unzipping corpora\\stopwords.zip.\n",
      "[nltk_data] Downloading package wordnet to\n",
      "[nltk_data]     C:\\Users\\acer\\AppData\\Roaming\\nltk_data...\n"
     ]
    },
    {
     "ename": "KeyError",
     "evalue": "'content'",
     "output_type": "error",
     "traceback": [
      "\u001b[1;31m---------------------------------------------------------------------------\u001b[0m",
      "\u001b[1;31mKeyError\u001b[0m                                  Traceback (most recent call last)",
      "Cell \u001b[1;32mIn[140], line 26\u001b[0m\n\u001b[0;32m     23\u001b[0m     \u001b[38;5;28;01mreturn\u001b[39;00m \u001b[38;5;124m\"\u001b[39m\u001b[38;5;124m \u001b[39m\u001b[38;5;124m\"\u001b[39m\u001b[38;5;241m.\u001b[39mjoin(tokens)\n\u001b[0;32m     25\u001b[0m \u001b[38;5;66;03m# Temizlenmiş metinleri oluşturma\u001b[39;00m\n\u001b[1;32m---> 26\u001b[0m df[\u001b[38;5;124m'\u001b[39m\u001b[38;5;124mcleaned_content\u001b[39m\u001b[38;5;124m'\u001b[39m] \u001b[38;5;241m=\u001b[39m df[\u001b[38;5;124m'\u001b[39m\u001b[38;5;124mcontent\u001b[39m\u001b[38;5;124m'\u001b[39m]\u001b[38;5;241m.\u001b[39mapply(preprocess_text)\n\u001b[0;32m     27\u001b[0m \u001b[38;5;28mprint\u001b[39m(df\u001b[38;5;241m.\u001b[39mhead())\n",
      "File \u001b[1;32m~\\anaconda3\\Lib\\site-packages\\pandas\\core\\frame.py:4102\u001b[0m, in \u001b[0;36mDataFrame.__getitem__\u001b[1;34m(self, key)\u001b[0m\n\u001b[0;32m   4100\u001b[0m \u001b[38;5;28;01mif\u001b[39;00m \u001b[38;5;28mself\u001b[39m\u001b[38;5;241m.\u001b[39mcolumns\u001b[38;5;241m.\u001b[39mnlevels \u001b[38;5;241m>\u001b[39m \u001b[38;5;241m1\u001b[39m:\n\u001b[0;32m   4101\u001b[0m     \u001b[38;5;28;01mreturn\u001b[39;00m \u001b[38;5;28mself\u001b[39m\u001b[38;5;241m.\u001b[39m_getitem_multilevel(key)\n\u001b[1;32m-> 4102\u001b[0m indexer \u001b[38;5;241m=\u001b[39m \u001b[38;5;28mself\u001b[39m\u001b[38;5;241m.\u001b[39mcolumns\u001b[38;5;241m.\u001b[39mget_loc(key)\n\u001b[0;32m   4103\u001b[0m \u001b[38;5;28;01mif\u001b[39;00m is_integer(indexer):\n\u001b[0;32m   4104\u001b[0m     indexer \u001b[38;5;241m=\u001b[39m [indexer]\n",
      "File \u001b[1;32m~\\anaconda3\\Lib\\site-packages\\pandas\\core\\indexes\\range.py:417\u001b[0m, in \u001b[0;36mRangeIndex.get_loc\u001b[1;34m(self, key)\u001b[0m\n\u001b[0;32m    415\u001b[0m         \u001b[38;5;28;01mraise\u001b[39;00m \u001b[38;5;167;01mKeyError\u001b[39;00m(key) \u001b[38;5;28;01mfrom\u001b[39;00m \u001b[38;5;21;01merr\u001b[39;00m\n\u001b[0;32m    416\u001b[0m \u001b[38;5;28;01mif\u001b[39;00m \u001b[38;5;28misinstance\u001b[39m(key, Hashable):\n\u001b[1;32m--> 417\u001b[0m     \u001b[38;5;28;01mraise\u001b[39;00m \u001b[38;5;167;01mKeyError\u001b[39;00m(key)\n\u001b[0;32m    418\u001b[0m \u001b[38;5;28mself\u001b[39m\u001b[38;5;241m.\u001b[39m_check_indexing_error(key)\n\u001b[0;32m    419\u001b[0m \u001b[38;5;28;01mraise\u001b[39;00m \u001b[38;5;167;01mKeyError\u001b[39;00m(key)\n",
      "\u001b[1;31mKeyError\u001b[0m: 'content'"
     ]
    }
   ],
   "source": [
    "import os\n",
    "import pandas as pd\n",
    "import nltk\n",
    "from nltk.corpus import stopwords\n",
    "from nltk.tokenize import word_tokenize\n",
    "from nltk.stem import WordNetLemmatizer\n",
    "\n",
    "# nltk veri setlerini indirme\n",
    "nltk.download('punkt')\n",
    "nltk.download('stopwords')\n",
    "nltk.download('wordnet')\n",
    "\n",
    "# Veri temizleme işlemleri\n",
    "lemmatizer = WordNetLemmatizer()\n",
    "stop_words = set(stopwords.words('english'))\n",
    "\n",
    "def preprocess_text(text):\n",
    "    text = text.lower()  # Küçük harfe çevirme\n",
    "    tokens = word_tokenize(text)  # Tokenization\n",
    "    tokens = [word for word in tokens if word.isalnum()]  # Sadece alfanümerik kelimeleri al\n",
    "    tokens = [word for word in tokens if word not in stop_words]  # Stopword'leri kaldır\n",
    "    tokens = [lemmatizer.lemmatize(word) for word in tokens]  # Lemmatization\n",
    "    return \" \".join(tokens)\n",
    "\n",
    "# Temizlenmiş metinleri oluşturma\n",
    "df['cleaned_content'] = df['content'].apply(preprocess_text)\n",
    "print(df.head())\n"
   ]
  },
  {
   "cell_type": "code",
   "execution_count": null,
   "id": "b485fed7bb8445e2",
   "metadata": {},
   "outputs": [],
   "source": []
  },
  {
   "cell_type": "code",
   "execution_count": null,
   "id": "28565b6646ab1076",
   "metadata": {},
   "outputs": [],
   "source": []
  },
  {
   "cell_type": "code",
   "execution_count": null,
   "id": "bb22f0a6bf2dd5d9",
   "metadata": {},
   "outputs": [],
   "source": []
  },
  {
   "cell_type": "code",
   "execution_count": 90,
   "id": "6ce1c90cd811d8d7",
   "metadata": {
    "ExecuteTime": {
     "end_time": "2024-12-28T18:19:48.385152Z",
     "start_time": "2024-12-28T18:19:48.378943Z"
    }
   },
   "outputs": [
    {
     "data": {
      "text/html": [
       "<div>\n",
       "<style scoped>\n",
       "    .dataframe tbody tr th:only-of-type {\n",
       "        vertical-align: middle;\n",
       "    }\n",
       "\n",
       "    .dataframe tbody tr th {\n",
       "        vertical-align: top;\n",
       "    }\n",
       "\n",
       "    .dataframe thead th {\n",
       "        text-align: right;\n",
       "    }\n",
       "</style>\n",
       "<table border=\"1\" class=\"dataframe\">\n",
       "  <thead>\n",
       "    <tr style=\"text-align: right;\">\n",
       "      <th></th>\n",
       "      <th>file_name</th>\n",
       "      <th>content</th>\n",
       "      <th>author</th>\n",
       "    </tr>\n",
       "  </thead>\n",
       "  <tbody>\n",
       "    <tr>\n",
       "      <th>0</th>\n",
       "      <td>known00001.txt</td>\n",
       "      <td>graceful ones.\\n\\n\"One more,\" Marvelous said, ...</td>\n",
       "      <td>candidate00001</td>\n",
       "    </tr>\n",
       "    <tr>\n",
       "      <th>1</th>\n",
       "      <td>known00002.txt</td>\n",
       "      <td>before. If he can, he’ll remember a classmate ...</td>\n",
       "      <td>candidate00001</td>\n",
       "    </tr>\n",
       "    <tr>\n",
       "      <th>2</th>\n",
       "      <td>known00003.txt</td>\n",
       "      <td>she thought - he was in Team Baron only becaus...</td>\n",
       "      <td>candidate00001</td>\n",
       "    </tr>\n",
       "    <tr>\n",
       "      <th>3</th>\n",
       "      <td>known00004.txt</td>\n",
       "      <td>Zawame City’s no longer ‘home’ as it once was....</td>\n",
       "      <td>candidate00001</td>\n",
       "    </tr>\n",
       "    <tr>\n",
       "      <th>4</th>\n",
       "      <td>known00005.txt</td>\n",
       "      <td>1. He showered her with smiles the first time ...</td>\n",
       "      <td>candidate00001</td>\n",
       "    </tr>\n",
       "  </tbody>\n",
       "</table>\n",
       "</div>"
      ],
      "text/plain": [
       "        file_name                                            content  \\\n",
       "0  known00001.txt  graceful ones.\\n\\n\"One more,\" Marvelous said, ...   \n",
       "1  known00002.txt  before. If he can, he’ll remember a classmate ...   \n",
       "2  known00003.txt  she thought - he was in Team Baron only becaus...   \n",
       "3  known00004.txt  Zawame City’s no longer ‘home’ as it once was....   \n",
       "4  known00005.txt  1. He showered her with smiles the first time ...   \n",
       "\n",
       "           author  \n",
       "0  candidate00001  \n",
       "1  candidate00001  \n",
       "2  candidate00001  \n",
       "3  candidate00001  \n",
       "4  candidate00001  "
      ]
     },
     "execution_count": 90,
     "metadata": {},
     "output_type": "execute_result"
    }
   ],
   "source": [
    "df.head()"
   ]
  },
  {
   "cell_type": "code",
   "execution_count": 46,
   "id": "679ab80bf1358446",
   "metadata": {
    "ExecuteTime": {
     "end_time": "2024-12-28T17:51:59.709693Z",
     "start_time": "2024-12-28T17:51:59.703822Z"
    }
   },
   "outputs": [
    {
     "data": {
      "text/plain": [
       "<bound method NDFrame.head of             file_name                                            content  \\\n",
       "0   ground-truth.json  {\\n    \"ground_truth\": [\\n        {\\n         ...   \n",
       "1   problem-info.json  {\\n    \"unknown-folder\": \"unknown\",\\n    \"cand...   \n",
       "2   ground-truth.json  {\\n    \"ground_truth\": [\\n        {\\n         ...   \n",
       "3   problem-info.json  {\\n    \"unknown-folder\": \"unknown\",\\n    \"cand...   \n",
       "4   ground-truth.json  {\\n    \"ground_truth\": [\\n        {\\n         ...   \n",
       "5   problem-info.json  {\\n    \"unknown-folder\": \"unknown\",\\n    \"cand...   \n",
       "6   ground-truth.json  {\\n    \"ground_truth\": [\\n        {\\n         ...   \n",
       "7   problem-info.json  {\\n    \"unknown-folder\": \"unknown\",\\n    \"cand...   \n",
       "8   ground-truth.json  {\\n    \"ground_truth\": [\\n        {\\n         ...   \n",
       "9   problem-info.json  {\\n    \"unknown-folder\": \"unknown\",\\n    \"cand...   \n",
       "10  ground-truth.json  {\\n    \"ground_truth\": [\\n        {\\n         ...   \n",
       "11  problem-info.json  {\\n    \"unknown-folder\": \"unknown\",\\n    \"cand...   \n",
       "12  ground-truth.json  {\\n    \"ground_truth\": [\\n        {\\n         ...   \n",
       "13  problem-info.json  {\\n    \"unknown-folder\": \"unknown\",\\n    \"cand...   \n",
       "14  ground-truth.json  {\\n    \"ground_truth\": [\\n        {\\n         ...   \n",
       "15  problem-info.json  {\\n    \"unknown-folder\": \"unknown\",\\n    \"cand...   \n",
       "16  ground-truth.json  {\\n    \"ground_truth\": [\\n        {\\n         ...   \n",
       "17  problem-info.json  {\\n    \"unknown-folder\": \"unknown\",\\n    \"cand...   \n",
       "18  ground-truth.json  {\\n    \"ground_truth\": [\\n        {\\n         ...   \n",
       "19  problem-info.json  {\\n    \"unknown-folder\": \"unknown\",\\n    \"cand...   \n",
       "\n",
       "     author  \n",
       "0    ground  \n",
       "1   problem  \n",
       "2    ground  \n",
       "3   problem  \n",
       "4    ground  \n",
       "5   problem  \n",
       "6    ground  \n",
       "7   problem  \n",
       "8    ground  \n",
       "9   problem  \n",
       "10   ground  \n",
       "11  problem  \n",
       "12   ground  \n",
       "13  problem  \n",
       "14   ground  \n",
       "15  problem  \n",
       "16   ground  \n",
       "17  problem  \n",
       "18   ground  \n",
       "19  problem  >"
      ]
     },
     "execution_count": 46,
     "metadata": {},
     "output_type": "execute_result"
    }
   ],
   "source": [
    "df.head"
   ]
  },
  {
   "cell_type": "code",
   "execution_count": 1,
   "id": "7d7f038a08852a24",
   "metadata": {
    "ExecuteTime": {
     "end_time": "2024-12-28T20:31:28.515576Z",
     "start_time": "2024-12-28T20:31:25.056507Z"
    },
    "scrolled": true
   },
   "outputs": [
    {
     "name": "stderr",
     "output_type": "stream",
     "text": [
      "[nltk_data] Downloading package stopwords to\n",
      "[nltk_data]     C:\\Users\\acer\\AppData\\Roaming\\nltk_data...\n",
      "[nltk_data]   Package stopwords is already up-to-date!\n",
      "[nltk_data] Downloading package punkt to\n",
      "[nltk_data]     C:\\Users\\acer\\AppData\\Roaming\\nltk_data...\n",
      "[nltk_data]   Package punkt is already up-to-date!\n"
     ]
    },
    {
     "name": "stdout",
     "output_type": "stream",
     "text": [
      "Problem Klasörleri: ['pan18-cross-domain-authorship-attribution-training-dataset-2017-12-02/problem00001\\\\candidate00001', 'pan18-cross-domain-authorship-attribution-training-dataset-2017-12-02/problem00001\\\\candidate00002', 'pan18-cross-domain-authorship-attribution-training-dataset-2017-12-02/problem00001\\\\candidate00003', 'pan18-cross-domain-authorship-attribution-training-dataset-2017-12-02/problem00001\\\\candidate00004', 'pan18-cross-domain-authorship-attribution-training-dataset-2017-12-02/problem00001\\\\candidate00005', 'pan18-cross-domain-authorship-attribution-training-dataset-2017-12-02/problem00001\\\\candidate00006', 'pan18-cross-domain-authorship-attribution-training-dataset-2017-12-02/problem00001\\\\candidate00007', 'pan18-cross-domain-authorship-attribution-training-dataset-2017-12-02/problem00001\\\\candidate00008', 'pan18-cross-domain-authorship-attribution-training-dataset-2017-12-02/problem00001\\\\candidate00009', 'pan18-cross-domain-authorship-attribution-training-dataset-2017-12-02/problem00001\\\\candidate00010', 'pan18-cross-domain-authorship-attribution-training-dataset-2017-12-02/problem00001\\\\candidate00011', 'pan18-cross-domain-authorship-attribution-training-dataset-2017-12-02/problem00001\\\\candidate00012', 'pan18-cross-domain-authorship-attribution-training-dataset-2017-12-02/problem00001\\\\candidate00013', 'pan18-cross-domain-authorship-attribution-training-dataset-2017-12-02/problem00001\\\\candidate00014', 'pan18-cross-domain-authorship-attribution-training-dataset-2017-12-02/problem00001\\\\candidate00015', 'pan18-cross-domain-authorship-attribution-training-dataset-2017-12-02/problem00001\\\\candidate00016', 'pan18-cross-domain-authorship-attribution-training-dataset-2017-12-02/problem00001\\\\candidate00017', 'pan18-cross-domain-authorship-attribution-training-dataset-2017-12-02/problem00001\\\\candidate00018', 'pan18-cross-domain-authorship-attribution-training-dataset-2017-12-02/problem00001\\\\candidate00019', 'pan18-cross-domain-authorship-attribution-training-dataset-2017-12-02/problem00001\\\\candidate00020', 'pan18-cross-domain-authorship-attribution-training-dataset-2017-12-02/problem00001\\\\unknown']\n",
      "Problemdeki Dosyalar: ['known00001.txt', 'known00002.txt', 'known00003.txt', 'known00004.txt', 'known00005.txt', 'known00006.txt', 'known00007.txt']\n",
      "Problemdeki Dosyalar: ['known00001.txt', 'known00002.txt', 'known00003.txt', 'known00004.txt', 'known00005.txt', 'known00006.txt', 'known00007.txt']\n",
      "Problemdeki Dosyalar: ['known00001.txt', 'known00002.txt', 'known00003.txt', 'known00004.txt', 'known00005.txt', 'known00006.txt', 'known00007.txt']\n",
      "Problemdeki Dosyalar: ['known00001.txt', 'known00002.txt', 'known00003.txt', 'known00004.txt', 'known00005.txt', 'known00006.txt', 'known00007.txt']\n",
      "Problemdeki Dosyalar: ['known00001.txt', 'known00002.txt', 'known00003.txt', 'known00004.txt', 'known00005.txt', 'known00006.txt', 'known00007.txt']\n",
      "Problemdeki Dosyalar: ['known00001.txt', 'known00002.txt', 'known00003.txt', 'known00004.txt', 'known00005.txt', 'known00006.txt', 'known00007.txt']\n",
      "Problemdeki Dosyalar: ['known00001.txt', 'known00002.txt', 'known00003.txt', 'known00004.txt', 'known00005.txt', 'known00006.txt', 'known00007.txt']\n",
      "Problemdeki Dosyalar: ['known00001.txt', 'known00002.txt', 'known00003.txt', 'known00004.txt', 'known00005.txt', 'known00006.txt', 'known00007.txt']\n",
      "Problemdeki Dosyalar: ['known00001.txt', 'known00002.txt', 'known00003.txt', 'known00004.txt', 'known00005.txt', 'known00006.txt', 'known00007.txt']\n",
      "Problemdeki Dosyalar: ['known00001.txt', 'known00002.txt', 'known00003.txt', 'known00004.txt', 'known00005.txt', 'known00006.txt', 'known00007.txt']\n",
      "Problemdeki Dosyalar: ['known00001.txt', 'known00002.txt', 'known00003.txt', 'known00004.txt', 'known00005.txt', 'known00006.txt', 'known00007.txt']\n",
      "Problemdeki Dosyalar: ['known00001.txt', 'known00002.txt', 'known00003.txt', 'known00004.txt', 'known00005.txt', 'known00006.txt', 'known00007.txt']\n",
      "Problemdeki Dosyalar: ['known00001.txt', 'known00002.txt', 'known00003.txt', 'known00004.txt', 'known00005.txt', 'known00006.txt', 'known00007.txt']\n",
      "Problemdeki Dosyalar: ['known00001.txt', 'known00002.txt', 'known00003.txt', 'known00004.txt', 'known00005.txt', 'known00006.txt', 'known00007.txt']\n",
      "Problemdeki Dosyalar: ['known00001.txt', 'known00002.txt', 'known00003.txt', 'known00004.txt', 'known00005.txt', 'known00006.txt', 'known00007.txt']\n",
      "Problemdeki Dosyalar: ['known00001.txt', 'known00002.txt', 'known00003.txt', 'known00004.txt', 'known00005.txt', 'known00006.txt', 'known00007.txt']\n",
      "Problemdeki Dosyalar: ['known00001.txt', 'known00002.txt', 'known00003.txt', 'known00004.txt', 'known00005.txt', 'known00006.txt', 'known00007.txt']\n",
      "Problemdeki Dosyalar: ['known00001.txt', 'known00002.txt', 'known00003.txt', 'known00004.txt', 'known00005.txt', 'known00006.txt', 'known00007.txt']\n",
      "Problemdeki Dosyalar: ['known00001.txt', 'known00002.txt', 'known00003.txt', 'known00004.txt', 'known00005.txt', 'known00006.txt', 'known00007.txt']\n",
      "Problemdeki Dosyalar: ['known00001.txt', 'known00002.txt', 'known00003.txt', 'known00004.txt', 'known00005.txt', 'known00006.txt', 'known00007.txt']\n",
      "Problemdeki Dosyalar: ['unknown00001.txt', 'unknown00002.txt', 'unknown00003.txt', 'unknown00004.txt', 'unknown00005.txt', 'unknown00006.txt', 'unknown00007.txt', 'unknown00008.txt', 'unknown00009.txt', 'unknown00010.txt', 'unknown00011.txt', 'unknown00012.txt', 'unknown00013.txt', 'unknown00014.txt', 'unknown00015.txt', 'unknown00016.txt', 'unknown00017.txt', 'unknown00018.txt', 'unknown00019.txt', 'unknown00020.txt', 'unknown00021.txt', 'unknown00022.txt', 'unknown00023.txt', 'unknown00024.txt', 'unknown00025.txt', 'unknown00026.txt', 'unknown00027.txt', 'unknown00028.txt', 'unknown00029.txt', 'unknown00030.txt', 'unknown00031.txt', 'unknown00032.txt', 'unknown00033.txt', 'unknown00034.txt', 'unknown00035.txt', 'unknown00036.txt', 'unknown00037.txt', 'unknown00038.txt', 'unknown00039.txt', 'unknown00040.txt', 'unknown00041.txt', 'unknown00042.txt', 'unknown00043.txt', 'unknown00044.txt', 'unknown00045.txt', 'unknown00046.txt', 'unknown00047.txt', 'unknown00048.txt', 'unknown00049.txt', 'unknown00050.txt', 'unknown00051.txt', 'unknown00052.txt', 'unknown00053.txt', 'unknown00054.txt', 'unknown00055.txt', 'unknown00056.txt', 'unknown00057.txt', 'unknown00058.txt', 'unknown00059.txt', 'unknown00060.txt', 'unknown00061.txt', 'unknown00062.txt', 'unknown00063.txt', 'unknown00064.txt', 'unknown00065.txt', 'unknown00066.txt', 'unknown00067.txt', 'unknown00068.txt', 'unknown00069.txt', 'unknown00070.txt', 'unknown00071.txt', 'unknown00072.txt', 'unknown00073.txt', 'unknown00074.txt', 'unknown00075.txt', 'unknown00076.txt', 'unknown00077.txt', 'unknown00078.txt', 'unknown00079.txt', 'unknown00080.txt', 'unknown00081.txt', 'unknown00082.txt', 'unknown00083.txt', 'unknown00084.txt', 'unknown00085.txt', 'unknown00086.txt', 'unknown00087.txt', 'unknown00088.txt', 'unknown00089.txt', 'unknown00090.txt', 'unknown00091.txt', 'unknown00092.txt', 'unknown00093.txt', 'unknown00094.txt', 'unknown00095.txt', 'unknown00096.txt', 'unknown00097.txt', 'unknown00098.txt', 'unknown00099.txt', 'unknown00100.txt', 'unknown00101.txt', 'unknown00102.txt', 'unknown00103.txt', 'unknown00104.txt', 'unknown00105.txt']\n",
      "Problem Klasörleri: ['pan18-cross-domain-authorship-attribution-training-dataset-2017-12-02/problem00002\\\\candidate00001', 'pan18-cross-domain-authorship-attribution-training-dataset-2017-12-02/problem00002\\\\candidate00002', 'pan18-cross-domain-authorship-attribution-training-dataset-2017-12-02/problem00002\\\\candidate00003', 'pan18-cross-domain-authorship-attribution-training-dataset-2017-12-02/problem00002\\\\candidate00004', 'pan18-cross-domain-authorship-attribution-training-dataset-2017-12-02/problem00002\\\\candidate00005', 'pan18-cross-domain-authorship-attribution-training-dataset-2017-12-02/problem00002\\\\unknown']\n",
      "Problemdeki Dosyalar: ['known00001.txt', 'known00002.txt', 'known00003.txt', 'known00004.txt', 'known00005.txt', 'known00006.txt', 'known00007.txt']\n",
      "Problemdeki Dosyalar: ['known00001.txt', 'known00002.txt', 'known00003.txt', 'known00004.txt', 'known00005.txt', 'known00006.txt', 'known00007.txt']\n",
      "Problemdeki Dosyalar: ['known00001.txt', 'known00002.txt', 'known00003.txt', 'known00004.txt', 'known00005.txt', 'known00006.txt', 'known00007.txt']\n",
      "Problemdeki Dosyalar: ['known00001.txt', 'known00002.txt', 'known00003.txt', 'known00004.txt', 'known00005.txt', 'known00006.txt', 'known00007.txt']\n",
      "Problemdeki Dosyalar: ['known00001.txt', 'known00002.txt', 'known00003.txt', 'known00004.txt', 'known00005.txt', 'known00006.txt', 'known00007.txt']\n",
      "Problemdeki Dosyalar: ['unknown00001.txt', 'unknown00002.txt', 'unknown00003.txt', 'unknown00004.txt', 'unknown00005.txt', 'unknown00006.txt', 'unknown00007.txt', 'unknown00008.txt', 'unknown00009.txt', 'unknown00010.txt', 'unknown00011.txt', 'unknown00012.txt', 'unknown00013.txt', 'unknown00014.txt', 'unknown00015.txt', 'unknown00016.txt', 'unknown00017.txt', 'unknown00018.txt', 'unknown00019.txt', 'unknown00020.txt', 'unknown00021.txt']\n",
      "Problem Klasörleri: ['pan18-cross-domain-authorship-attribution-training-dataset-2017-12-02/problem00003\\\\candidate00001', 'pan18-cross-domain-authorship-attribution-training-dataset-2017-12-02/problem00003\\\\candidate00002', 'pan18-cross-domain-authorship-attribution-training-dataset-2017-12-02/problem00003\\\\candidate00003', 'pan18-cross-domain-authorship-attribution-training-dataset-2017-12-02/problem00003\\\\candidate00004', 'pan18-cross-domain-authorship-attribution-training-dataset-2017-12-02/problem00003\\\\candidate00005', 'pan18-cross-domain-authorship-attribution-training-dataset-2017-12-02/problem00003\\\\candidate00006', 'pan18-cross-domain-authorship-attribution-training-dataset-2017-12-02/problem00003\\\\candidate00007', 'pan18-cross-domain-authorship-attribution-training-dataset-2017-12-02/problem00003\\\\candidate00008', 'pan18-cross-domain-authorship-attribution-training-dataset-2017-12-02/problem00003\\\\candidate00009', 'pan18-cross-domain-authorship-attribution-training-dataset-2017-12-02/problem00003\\\\candidate00010', 'pan18-cross-domain-authorship-attribution-training-dataset-2017-12-02/problem00003\\\\candidate00011', 'pan18-cross-domain-authorship-attribution-training-dataset-2017-12-02/problem00003\\\\candidate00012', 'pan18-cross-domain-authorship-attribution-training-dataset-2017-12-02/problem00003\\\\candidate00013', 'pan18-cross-domain-authorship-attribution-training-dataset-2017-12-02/problem00003\\\\candidate00014', 'pan18-cross-domain-authorship-attribution-training-dataset-2017-12-02/problem00003\\\\candidate00015', 'pan18-cross-domain-authorship-attribution-training-dataset-2017-12-02/problem00003\\\\candidate00016', 'pan18-cross-domain-authorship-attribution-training-dataset-2017-12-02/problem00003\\\\candidate00017', 'pan18-cross-domain-authorship-attribution-training-dataset-2017-12-02/problem00003\\\\candidate00018', 'pan18-cross-domain-authorship-attribution-training-dataset-2017-12-02/problem00003\\\\candidate00019', 'pan18-cross-domain-authorship-attribution-training-dataset-2017-12-02/problem00003\\\\candidate00020', 'pan18-cross-domain-authorship-attribution-training-dataset-2017-12-02/problem00003\\\\unknown']\n",
      "Problemdeki Dosyalar: ['known00001.txt', 'known00002.txt', 'known00003.txt', 'known00004.txt', 'known00005.txt', 'known00006.txt', 'known00007.txt']\n",
      "Problemdeki Dosyalar: ['known00001.txt', 'known00002.txt', 'known00003.txt', 'known00004.txt', 'known00005.txt', 'known00006.txt', 'known00007.txt']\n",
      "Problemdeki Dosyalar: ['known00001.txt', 'known00002.txt', 'known00003.txt', 'known00004.txt', 'known00005.txt', 'known00006.txt', 'known00007.txt']\n",
      "Problemdeki Dosyalar: ['known00001.txt', 'known00002.txt', 'known00003.txt', 'known00004.txt', 'known00005.txt', 'known00006.txt', 'known00007.txt']\n",
      "Problemdeki Dosyalar: ['known00001.txt', 'known00002.txt', 'known00003.txt', 'known00004.txt', 'known00005.txt', 'known00006.txt', 'known00007.txt']\n",
      "Problemdeki Dosyalar: ['known00001.txt', 'known00002.txt', 'known00003.txt', 'known00004.txt', 'known00005.txt', 'known00006.txt', 'known00007.txt']\n",
      "Problemdeki Dosyalar: ['known00001.txt', 'known00002.txt', 'known00003.txt', 'known00004.txt', 'known00005.txt', 'known00006.txt', 'known00007.txt']\n",
      "Problemdeki Dosyalar: ['known00001.txt', 'known00002.txt', 'known00003.txt', 'known00004.txt', 'known00005.txt', 'known00006.txt', 'known00007.txt']\n",
      "Problemdeki Dosyalar: ['known00001.txt', 'known00002.txt', 'known00003.txt', 'known00004.txt', 'known00005.txt', 'known00006.txt', 'known00007.txt']\n",
      "Problemdeki Dosyalar: ['known00001.txt', 'known00002.txt', 'known00003.txt', 'known00004.txt', 'known00005.txt', 'known00006.txt', 'known00007.txt']\n",
      "Problemdeki Dosyalar: ['known00001.txt', 'known00002.txt', 'known00003.txt', 'known00004.txt', 'known00005.txt', 'known00006.txt', 'known00007.txt']\n",
      "Problemdeki Dosyalar: ['known00001.txt', 'known00002.txt', 'known00003.txt', 'known00004.txt', 'known00005.txt', 'known00006.txt', 'known00007.txt']\n",
      "Problemdeki Dosyalar: ['known00001.txt', 'known00002.txt', 'known00003.txt', 'known00004.txt', 'known00005.txt', 'known00006.txt', 'known00007.txt']\n",
      "Problemdeki Dosyalar: ['known00001.txt', 'known00002.txt', 'known00003.txt', 'known00004.txt', 'known00005.txt', 'known00006.txt', 'known00007.txt']\n",
      "Problemdeki Dosyalar: ['known00001.txt', 'known00002.txt', 'known00003.txt', 'known00004.txt', 'known00005.txt', 'known00006.txt', 'known00007.txt']\n",
      "Problemdeki Dosyalar: ['known00001.txt', 'known00002.txt', 'known00003.txt', 'known00004.txt', 'known00005.txt', 'known00006.txt', 'known00007.txt']\n",
      "Problemdeki Dosyalar: ['known00001.txt', 'known00002.txt', 'known00003.txt', 'known00004.txt', 'known00005.txt', 'known00006.txt', 'known00007.txt']\n",
      "Problemdeki Dosyalar: ['known00001.txt', 'known00002.txt', 'known00003.txt', 'known00004.txt', 'known00005.txt', 'known00006.txt', 'known00007.txt']\n",
      "Problemdeki Dosyalar: ['known00001.txt', 'known00002.txt', 'known00003.txt', 'known00004.txt', 'known00005.txt', 'known00006.txt', 'known00007.txt']\n",
      "Problemdeki Dosyalar: ['known00001.txt', 'known00002.txt', 'known00003.txt', 'known00004.txt', 'known00005.txt', 'known00006.txt', 'known00007.txt']\n",
      "Problemdeki Dosyalar: ['unknown00001.txt', 'unknown00002.txt', 'unknown00003.txt', 'unknown00004.txt', 'unknown00005.txt', 'unknown00006.txt', 'unknown00007.txt', 'unknown00008.txt', 'unknown00009.txt', 'unknown00010.txt', 'unknown00011.txt', 'unknown00012.txt', 'unknown00013.txt', 'unknown00014.txt', 'unknown00015.txt', 'unknown00016.txt', 'unknown00017.txt', 'unknown00018.txt', 'unknown00019.txt', 'unknown00020.txt', 'unknown00021.txt', 'unknown00022.txt', 'unknown00023.txt', 'unknown00024.txt', 'unknown00025.txt', 'unknown00026.txt', 'unknown00027.txt', 'unknown00028.txt', 'unknown00029.txt', 'unknown00030.txt', 'unknown00031.txt', 'unknown00032.txt', 'unknown00033.txt', 'unknown00034.txt', 'unknown00035.txt', 'unknown00036.txt', 'unknown00037.txt', 'unknown00038.txt', 'unknown00039.txt', 'unknown00040.txt', 'unknown00041.txt', 'unknown00042.txt', 'unknown00043.txt', 'unknown00044.txt', 'unknown00045.txt', 'unknown00046.txt', 'unknown00047.txt', 'unknown00048.txt', 'unknown00049.txt']\n",
      "Problem Klasörleri: ['pan18-cross-domain-authorship-attribution-training-dataset-2017-12-02/problem00004\\\\candidate00001', 'pan18-cross-domain-authorship-attribution-training-dataset-2017-12-02/problem00004\\\\candidate00002', 'pan18-cross-domain-authorship-attribution-training-dataset-2017-12-02/problem00004\\\\candidate00003', 'pan18-cross-domain-authorship-attribution-training-dataset-2017-12-02/problem00004\\\\candidate00004', 'pan18-cross-domain-authorship-attribution-training-dataset-2017-12-02/problem00004\\\\candidate00005', 'pan18-cross-domain-authorship-attribution-training-dataset-2017-12-02/problem00004\\\\unknown']\n",
      "Problemdeki Dosyalar: ['known00001.txt', 'known00002.txt', 'known00003.txt', 'known00004.txt', 'known00005.txt', 'known00006.txt', 'known00007.txt']\n",
      "Problemdeki Dosyalar: ['known00001.txt', 'known00002.txt', 'known00003.txt', 'known00004.txt', 'known00005.txt', 'known00006.txt', 'known00007.txt']\n",
      "Problemdeki Dosyalar: ['known00001.txt', 'known00002.txt', 'known00003.txt', 'known00004.txt', 'known00005.txt', 'known00006.txt', 'known00007.txt']\n",
      "Problemdeki Dosyalar: ['known00001.txt', 'known00002.txt', 'known00003.txt', 'known00004.txt', 'known00005.txt', 'known00006.txt', 'known00007.txt']\n",
      "Problemdeki Dosyalar: ['known00001.txt', 'known00002.txt', 'known00003.txt', 'known00004.txt', 'known00005.txt', 'known00006.txt', 'known00007.txt']\n",
      "Problemdeki Dosyalar: ['unknown00001.txt', 'unknown00002.txt', 'unknown00003.txt', 'unknown00004.txt', 'unknown00005.txt', 'unknown00006.txt', 'unknown00007.txt', 'unknown00008.txt', 'unknown00009.txt', 'unknown00010.txt', 'unknown00011.txt', 'unknown00012.txt', 'unknown00013.txt', 'unknown00014.txt', 'unknown00015.txt', 'unknown00016.txt', 'unknown00017.txt', 'unknown00018.txt', 'unknown00019.txt', 'unknown00020.txt', 'unknown00021.txt']\n",
      "Problem Klasörleri: ['pan18-cross-domain-authorship-attribution-training-dataset-2017-12-02/problem00005\\\\candidate00001', 'pan18-cross-domain-authorship-attribution-training-dataset-2017-12-02/problem00005\\\\candidate00002', 'pan18-cross-domain-authorship-attribution-training-dataset-2017-12-02/problem00005\\\\candidate00003', 'pan18-cross-domain-authorship-attribution-training-dataset-2017-12-02/problem00005\\\\candidate00004', 'pan18-cross-domain-authorship-attribution-training-dataset-2017-12-02/problem00005\\\\candidate00005', 'pan18-cross-domain-authorship-attribution-training-dataset-2017-12-02/problem00005\\\\candidate00006', 'pan18-cross-domain-authorship-attribution-training-dataset-2017-12-02/problem00005\\\\candidate00007', 'pan18-cross-domain-authorship-attribution-training-dataset-2017-12-02/problem00005\\\\candidate00008', 'pan18-cross-domain-authorship-attribution-training-dataset-2017-12-02/problem00005\\\\candidate00009', 'pan18-cross-domain-authorship-attribution-training-dataset-2017-12-02/problem00005\\\\candidate00010', 'pan18-cross-domain-authorship-attribution-training-dataset-2017-12-02/problem00005\\\\candidate00011', 'pan18-cross-domain-authorship-attribution-training-dataset-2017-12-02/problem00005\\\\candidate00012', 'pan18-cross-domain-authorship-attribution-training-dataset-2017-12-02/problem00005\\\\candidate00013', 'pan18-cross-domain-authorship-attribution-training-dataset-2017-12-02/problem00005\\\\candidate00014', 'pan18-cross-domain-authorship-attribution-training-dataset-2017-12-02/problem00005\\\\candidate00015', 'pan18-cross-domain-authorship-attribution-training-dataset-2017-12-02/problem00005\\\\candidate00016', 'pan18-cross-domain-authorship-attribution-training-dataset-2017-12-02/problem00005\\\\candidate00017', 'pan18-cross-domain-authorship-attribution-training-dataset-2017-12-02/problem00005\\\\candidate00018', 'pan18-cross-domain-authorship-attribution-training-dataset-2017-12-02/problem00005\\\\candidate00019', 'pan18-cross-domain-authorship-attribution-training-dataset-2017-12-02/problem00005\\\\candidate00020', 'pan18-cross-domain-authorship-attribution-training-dataset-2017-12-02/problem00005\\\\unknown']\n",
      "Problemdeki Dosyalar: ['known00001.txt', 'known00002.txt', 'known00003.txt', 'known00004.txt', 'known00005.txt', 'known00006.txt', 'known00007.txt']\n",
      "Problemdeki Dosyalar: ['known00001.txt', 'known00002.txt', 'known00003.txt', 'known00004.txt', 'known00005.txt', 'known00006.txt', 'known00007.txt']\n",
      "Problemdeki Dosyalar: ['known00001.txt', 'known00002.txt', 'known00003.txt', 'known00004.txt', 'known00005.txt', 'known00006.txt', 'known00007.txt']\n",
      "Problemdeki Dosyalar: ['known00001.txt', 'known00002.txt', 'known00003.txt', 'known00004.txt', 'known00005.txt', 'known00006.txt', 'known00007.txt']\n",
      "Problemdeki Dosyalar: ['known00001.txt', 'known00002.txt', 'known00003.txt', 'known00004.txt', 'known00005.txt', 'known00006.txt', 'known00007.txt']\n",
      "Problemdeki Dosyalar: ['known00001.txt', 'known00002.txt', 'known00003.txt', 'known00004.txt', 'known00005.txt', 'known00006.txt', 'known00007.txt']\n",
      "Problemdeki Dosyalar: ['known00001.txt', 'known00002.txt', 'known00003.txt', 'known00004.txt', 'known00005.txt', 'known00006.txt', 'known00007.txt']\n",
      "Problemdeki Dosyalar: ['known00001.txt', 'known00002.txt', 'known00003.txt', 'known00004.txt', 'known00005.txt', 'known00006.txt', 'known00007.txt']\n",
      "Problemdeki Dosyalar: ['known00001.txt', 'known00002.txt', 'known00003.txt', 'known00004.txt', 'known00005.txt', 'known00006.txt', 'known00007.txt']\n",
      "Problemdeki Dosyalar: ['known00001.txt', 'known00002.txt', 'known00003.txt', 'known00004.txt', 'known00005.txt', 'known00006.txt', 'known00007.txt']\n",
      "Problemdeki Dosyalar: ['known00001.txt', 'known00002.txt', 'known00003.txt', 'known00004.txt', 'known00005.txt', 'known00006.txt', 'known00007.txt']\n",
      "Problemdeki Dosyalar: ['known00001.txt', 'known00002.txt', 'known00003.txt', 'known00004.txt', 'known00005.txt', 'known00006.txt', 'known00007.txt']\n",
      "Problemdeki Dosyalar: ['known00001.txt', 'known00002.txt', 'known00003.txt', 'known00004.txt', 'known00005.txt', 'known00006.txt', 'known00007.txt']\n",
      "Problemdeki Dosyalar: ['known00001.txt', 'known00002.txt', 'known00003.txt', 'known00004.txt', 'known00005.txt', 'known00006.txt', 'known00007.txt']\n",
      "Problemdeki Dosyalar: ['known00001.txt', 'known00002.txt', 'known00003.txt', 'known00004.txt', 'known00005.txt', 'known00006.txt', 'known00007.txt']\n",
      "Problemdeki Dosyalar: ['known00001.txt', 'known00002.txt', 'known00003.txt', 'known00004.txt', 'known00005.txt', 'known00006.txt', 'known00007.txt']\n",
      "Problemdeki Dosyalar: ['known00001.txt', 'known00002.txt', 'known00003.txt', 'known00004.txt', 'known00005.txt', 'known00006.txt', 'known00007.txt']\n",
      "Problemdeki Dosyalar: ['known00001.txt', 'known00002.txt', 'known00003.txt', 'known00004.txt', 'known00005.txt', 'known00006.txt', 'known00007.txt']\n",
      "Problemdeki Dosyalar: ['known00001.txt', 'known00002.txt', 'known00003.txt', 'known00004.txt', 'known00005.txt', 'known00006.txt', 'known00007.txt']\n",
      "Problemdeki Dosyalar: ['known00001.txt', 'known00002.txt', 'known00003.txt', 'known00004.txt', 'known00005.txt', 'known00006.txt', 'known00007.txt']\n",
      "Problemdeki Dosyalar: ['unknown00001.txt', 'unknown00002.txt', 'unknown00003.txt', 'unknown00004.txt', 'unknown00005.txt', 'unknown00006.txt', 'unknown00007.txt', 'unknown00008.txt', 'unknown00009.txt', 'unknown00010.txt', 'unknown00011.txt', 'unknown00012.txt', 'unknown00013.txt', 'unknown00014.txt', 'unknown00015.txt', 'unknown00016.txt', 'unknown00017.txt', 'unknown00018.txt', 'unknown00019.txt', 'unknown00020.txt', 'unknown00021.txt', 'unknown00022.txt', 'unknown00023.txt', 'unknown00024.txt', 'unknown00025.txt', 'unknown00026.txt', 'unknown00027.txt', 'unknown00028.txt', 'unknown00029.txt', 'unknown00030.txt', 'unknown00031.txt', 'unknown00032.txt', 'unknown00033.txt', 'unknown00034.txt', 'unknown00035.txt', 'unknown00036.txt', 'unknown00037.txt', 'unknown00038.txt', 'unknown00039.txt', 'unknown00040.txt', 'unknown00041.txt', 'unknown00042.txt', 'unknown00043.txt', 'unknown00044.txt', 'unknown00045.txt', 'unknown00046.txt', 'unknown00047.txt', 'unknown00048.txt', 'unknown00049.txt', 'unknown00050.txt', 'unknown00051.txt', 'unknown00052.txt', 'unknown00053.txt', 'unknown00054.txt', 'unknown00055.txt', 'unknown00056.txt', 'unknown00057.txt', 'unknown00058.txt', 'unknown00059.txt', 'unknown00060.txt', 'unknown00061.txt', 'unknown00062.txt', 'unknown00063.txt', 'unknown00064.txt', 'unknown00065.txt', 'unknown00066.txt', 'unknown00067.txt', 'unknown00068.txt', 'unknown00069.txt', 'unknown00070.txt', 'unknown00071.txt', 'unknown00072.txt', 'unknown00073.txt', 'unknown00074.txt', 'unknown00075.txt', 'unknown00076.txt', 'unknown00077.txt', 'unknown00078.txt', 'unknown00079.txt', 'unknown00080.txt']\n",
      "Problem Klasörleri: ['pan18-cross-domain-authorship-attribution-training-dataset-2017-12-02/problem00006\\\\candidate00001', 'pan18-cross-domain-authorship-attribution-training-dataset-2017-12-02/problem00006\\\\candidate00002', 'pan18-cross-domain-authorship-attribution-training-dataset-2017-12-02/problem00006\\\\candidate00003', 'pan18-cross-domain-authorship-attribution-training-dataset-2017-12-02/problem00006\\\\candidate00004', 'pan18-cross-domain-authorship-attribution-training-dataset-2017-12-02/problem00006\\\\candidate00005', 'pan18-cross-domain-authorship-attribution-training-dataset-2017-12-02/problem00006\\\\unknown']\n",
      "Problemdeki Dosyalar: ['known00001.txt', 'known00002.txt', 'known00003.txt', 'known00004.txt', 'known00005.txt', 'known00006.txt', 'known00007.txt']\n",
      "Problemdeki Dosyalar: ['known00001.txt', 'known00002.txt', 'known00003.txt', 'known00004.txt', 'known00005.txt', 'known00006.txt', 'known00007.txt']\n",
      "Problemdeki Dosyalar: ['known00001.txt', 'known00002.txt', 'known00003.txt', 'known00004.txt', 'known00005.txt', 'known00006.txt', 'known00007.txt']\n",
      "Problemdeki Dosyalar: ['known00001.txt', 'known00002.txt', 'known00003.txt', 'known00004.txt', 'known00005.txt', 'known00006.txt', 'known00007.txt']\n",
      "Problemdeki Dosyalar: ['known00001.txt', 'known00002.txt', 'known00003.txt', 'known00004.txt', 'known00005.txt', 'known00006.txt', 'known00007.txt']\n",
      "Problemdeki Dosyalar: ['unknown00001.txt', 'unknown00002.txt', 'unknown00003.txt', 'unknown00004.txt', 'unknown00005.txt', 'unknown00006.txt', 'unknown00007.txt', 'unknown00008.txt', 'unknown00009.txt', 'unknown00010.txt', 'unknown00011.txt', 'unknown00012.txt', 'unknown00013.txt', 'unknown00014.txt', 'unknown00015.txt', 'unknown00016.txt', 'unknown00017.txt', 'unknown00018.txt', 'unknown00019.txt', 'unknown00020.txt', 'unknown00021.txt', 'unknown00022.txt', 'unknown00023.txt', 'unknown00024.txt', 'unknown00025.txt', 'unknown00026.txt', 'unknown00027.txt', 'unknown00028.txt', 'unknown00029.txt', 'unknown00030.txt', 'unknown00031.txt', 'unknown00032.txt', 'unknown00033.txt', 'unknown00034.txt', 'unknown00035.txt', 'unknown00036.txt', 'unknown00037.txt', 'unknown00038.txt', 'unknown00039.txt', 'unknown00040.txt', 'unknown00041.txt', 'unknown00042.txt', 'unknown00043.txt', 'unknown00044.txt', 'unknown00045.txt', 'unknown00046.txt']\n",
      "Problem Klasörleri: ['pan18-cross-domain-authorship-attribution-training-dataset-2017-12-02/problem00007\\\\candidate00001', 'pan18-cross-domain-authorship-attribution-training-dataset-2017-12-02/problem00007\\\\candidate00002', 'pan18-cross-domain-authorship-attribution-training-dataset-2017-12-02/problem00007\\\\candidate00003', 'pan18-cross-domain-authorship-attribution-training-dataset-2017-12-02/problem00007\\\\candidate00004', 'pan18-cross-domain-authorship-attribution-training-dataset-2017-12-02/problem00007\\\\candidate00005', 'pan18-cross-domain-authorship-attribution-training-dataset-2017-12-02/problem00007\\\\candidate00006', 'pan18-cross-domain-authorship-attribution-training-dataset-2017-12-02/problem00007\\\\candidate00007', 'pan18-cross-domain-authorship-attribution-training-dataset-2017-12-02/problem00007\\\\candidate00008', 'pan18-cross-domain-authorship-attribution-training-dataset-2017-12-02/problem00007\\\\candidate00009', 'pan18-cross-domain-authorship-attribution-training-dataset-2017-12-02/problem00007\\\\candidate00010', 'pan18-cross-domain-authorship-attribution-training-dataset-2017-12-02/problem00007\\\\candidate00011', 'pan18-cross-domain-authorship-attribution-training-dataset-2017-12-02/problem00007\\\\candidate00012', 'pan18-cross-domain-authorship-attribution-training-dataset-2017-12-02/problem00007\\\\candidate00013', 'pan18-cross-domain-authorship-attribution-training-dataset-2017-12-02/problem00007\\\\candidate00014', 'pan18-cross-domain-authorship-attribution-training-dataset-2017-12-02/problem00007\\\\candidate00015', 'pan18-cross-domain-authorship-attribution-training-dataset-2017-12-02/problem00007\\\\candidate00016', 'pan18-cross-domain-authorship-attribution-training-dataset-2017-12-02/problem00007\\\\candidate00017', 'pan18-cross-domain-authorship-attribution-training-dataset-2017-12-02/problem00007\\\\candidate00018', 'pan18-cross-domain-authorship-attribution-training-dataset-2017-12-02/problem00007\\\\candidate00019', 'pan18-cross-domain-authorship-attribution-training-dataset-2017-12-02/problem00007\\\\candidate00020', 'pan18-cross-domain-authorship-attribution-training-dataset-2017-12-02/problem00007\\\\unknown']\n",
      "Problemdeki Dosyalar: ['known00001.txt', 'known00002.txt', 'known00003.txt', 'known00004.txt', 'known00005.txt', 'known00006.txt', 'known00007.txt']\n",
      "Problemdeki Dosyalar: ['known00001.txt', 'known00002.txt', 'known00003.txt', 'known00004.txt', 'known00005.txt', 'known00006.txt', 'known00007.txt']\n",
      "Problemdeki Dosyalar: ['known00001.txt', 'known00002.txt', 'known00003.txt', 'known00004.txt', 'known00005.txt', 'known00006.txt', 'known00007.txt']\n",
      "Problemdeki Dosyalar: ['known00001.txt', 'known00002.txt', 'known00003.txt', 'known00004.txt', 'known00005.txt', 'known00006.txt', 'known00007.txt']\n",
      "Problemdeki Dosyalar: ['known00001.txt', 'known00002.txt', 'known00003.txt', 'known00004.txt', 'known00005.txt', 'known00006.txt', 'known00007.txt']\n",
      "Problemdeki Dosyalar: ['known00001.txt', 'known00002.txt', 'known00003.txt', 'known00004.txt', 'known00005.txt', 'known00006.txt', 'known00007.txt']\n",
      "Problemdeki Dosyalar: ['known00001.txt', 'known00002.txt', 'known00003.txt', 'known00004.txt', 'known00005.txt', 'known00006.txt', 'known00007.txt']\n",
      "Problemdeki Dosyalar: ['known00001.txt', 'known00002.txt', 'known00003.txt', 'known00004.txt', 'known00005.txt', 'known00006.txt', 'known00007.txt']\n",
      "Problemdeki Dosyalar: ['known00001.txt', 'known00002.txt', 'known00003.txt', 'known00004.txt', 'known00005.txt', 'known00006.txt', 'known00007.txt']\n",
      "Problemdeki Dosyalar: ['known00001.txt', 'known00002.txt', 'known00003.txt', 'known00004.txt', 'known00005.txt', 'known00006.txt', 'known00007.txt']\n",
      "Problemdeki Dosyalar: ['known00001.txt', 'known00002.txt', 'known00003.txt', 'known00004.txt', 'known00005.txt', 'known00006.txt', 'known00007.txt']\n",
      "Problemdeki Dosyalar: ['known00001.txt', 'known00002.txt', 'known00003.txt', 'known00004.txt', 'known00005.txt', 'known00006.txt', 'known00007.txt']\n",
      "Problemdeki Dosyalar: ['known00001.txt', 'known00002.txt', 'known00003.txt', 'known00004.txt', 'known00005.txt', 'known00006.txt', 'known00007.txt']\n",
      "Problemdeki Dosyalar: ['known00001.txt', 'known00002.txt', 'known00003.txt', 'known00004.txt', 'known00005.txt', 'known00006.txt', 'known00007.txt']\n",
      "Problemdeki Dosyalar: ['known00001.txt', 'known00002.txt', 'known00003.txt', 'known00004.txt', 'known00005.txt', 'known00006.txt', 'known00007.txt']\n",
      "Problemdeki Dosyalar: ['known00001.txt', 'known00002.txt', 'known00003.txt', 'known00004.txt', 'known00005.txt', 'known00006.txt', 'known00007.txt']\n",
      "Problemdeki Dosyalar: ['known00001.txt', 'known00002.txt', 'known00003.txt', 'known00004.txt', 'known00005.txt', 'known00006.txt', 'known00007.txt']\n",
      "Problemdeki Dosyalar: ['known00001.txt', 'known00002.txt', 'known00003.txt', 'known00004.txt', 'known00005.txt', 'known00006.txt', 'known00007.txt']\n",
      "Problemdeki Dosyalar: ['known00001.txt', 'known00002.txt', 'known00003.txt', 'known00004.txt', 'known00005.txt', 'known00006.txt', 'known00007.txt']\n",
      "Problemdeki Dosyalar: ['known00001.txt', 'known00002.txt', 'known00003.txt', 'known00004.txt', 'known00005.txt', 'known00006.txt', 'known00007.txt']\n",
      "Problemdeki Dosyalar: ['unknown00001.txt', 'unknown00002.txt', 'unknown00003.txt', 'unknown00004.txt', 'unknown00005.txt', 'unknown00006.txt', 'unknown00007.txt', 'unknown00008.txt', 'unknown00009.txt', 'unknown00010.txt', 'unknown00011.txt', 'unknown00012.txt', 'unknown00013.txt', 'unknown00014.txt', 'unknown00015.txt', 'unknown00016.txt', 'unknown00017.txt', 'unknown00018.txt', 'unknown00019.txt', 'unknown00020.txt', 'unknown00021.txt', 'unknown00022.txt', 'unknown00023.txt', 'unknown00024.txt', 'unknown00025.txt', 'unknown00026.txt', 'unknown00027.txt', 'unknown00028.txt', 'unknown00029.txt', 'unknown00030.txt', 'unknown00031.txt', 'unknown00032.txt', 'unknown00033.txt', 'unknown00034.txt', 'unknown00035.txt', 'unknown00036.txt', 'unknown00037.txt', 'unknown00038.txt', 'unknown00039.txt', 'unknown00040.txt', 'unknown00041.txt', 'unknown00042.txt', 'unknown00043.txt', 'unknown00044.txt', 'unknown00045.txt', 'unknown00046.txt', 'unknown00047.txt', 'unknown00048.txt', 'unknown00049.txt', 'unknown00050.txt', 'unknown00051.txt', 'unknown00052.txt', 'unknown00053.txt', 'unknown00054.txt', 'unknown00055.txt', 'unknown00056.txt', 'unknown00057.txt', 'unknown00058.txt', 'unknown00059.txt', 'unknown00060.txt', 'unknown00061.txt', 'unknown00062.txt', 'unknown00063.txt', 'unknown00064.txt', 'unknown00065.txt', 'unknown00066.txt', 'unknown00067.txt', 'unknown00068.txt', 'unknown00069.txt', 'unknown00070.txt', 'unknown00071.txt', 'unknown00072.txt', 'unknown00073.txt', 'unknown00074.txt', 'unknown00075.txt', 'unknown00076.txt', 'unknown00077.txt', 'unknown00078.txt', 'unknown00079.txt', 'unknown00080.txt', 'unknown00081.txt', 'unknown00082.txt', 'unknown00083.txt', 'unknown00084.txt', 'unknown00085.txt', 'unknown00086.txt', 'unknown00087.txt', 'unknown00088.txt', 'unknown00089.txt', 'unknown00090.txt', 'unknown00091.txt', 'unknown00092.txt', 'unknown00093.txt', 'unknown00094.txt', 'unknown00095.txt', 'unknown00096.txt', 'unknown00097.txt', 'unknown00098.txt', 'unknown00099.txt', 'unknown00100.txt', 'unknown00101.txt', 'unknown00102.txt', 'unknown00103.txt']\n",
      "Problem Klasörleri: ['pan18-cross-domain-authorship-attribution-training-dataset-2017-12-02/problem00008\\\\candidate00001', 'pan18-cross-domain-authorship-attribution-training-dataset-2017-12-02/problem00008\\\\candidate00002', 'pan18-cross-domain-authorship-attribution-training-dataset-2017-12-02/problem00008\\\\candidate00003', 'pan18-cross-domain-authorship-attribution-training-dataset-2017-12-02/problem00008\\\\candidate00004', 'pan18-cross-domain-authorship-attribution-training-dataset-2017-12-02/problem00008\\\\candidate00005', 'pan18-cross-domain-authorship-attribution-training-dataset-2017-12-02/problem00008\\\\unknown']\n",
      "Problemdeki Dosyalar: ['known00001.txt', 'known00002.txt', 'known00003.txt', 'known00004.txt', 'known00005.txt', 'known00006.txt', 'known00007.txt']\n",
      "Problemdeki Dosyalar: ['known00001.txt', 'known00002.txt', 'known00003.txt', 'known00004.txt', 'known00005.txt', 'known00006.txt', 'known00007.txt']\n",
      "Problemdeki Dosyalar: ['known00001.txt', 'known00002.txt', 'known00003.txt', 'known00004.txt', 'known00005.txt', 'known00006.txt', 'known00007.txt']\n",
      "Problemdeki Dosyalar: ['known00001.txt', 'known00002.txt', 'known00003.txt', 'known00004.txt', 'known00005.txt', 'known00006.txt', 'known00007.txt']\n",
      "Problemdeki Dosyalar: ['known00001.txt', 'known00002.txt', 'known00003.txt', 'known00004.txt', 'known00005.txt', 'known00006.txt', 'known00007.txt']\n",
      "Problemdeki Dosyalar: ['unknown00001.txt', 'unknown00002.txt', 'unknown00003.txt', 'unknown00004.txt', 'unknown00005.txt', 'unknown00006.txt', 'unknown00007.txt', 'unknown00008.txt', 'unknown00009.txt', 'unknown00010.txt', 'unknown00011.txt', 'unknown00012.txt', 'unknown00013.txt', 'unknown00014.txt', 'unknown00015.txt']\n",
      "Problem Klasörleri: ['pan18-cross-domain-authorship-attribution-training-dataset-2017-12-02/problem00009\\\\candidate00001', 'pan18-cross-domain-authorship-attribution-training-dataset-2017-12-02/problem00009\\\\candidate00002', 'pan18-cross-domain-authorship-attribution-training-dataset-2017-12-02/problem00009\\\\candidate00003', 'pan18-cross-domain-authorship-attribution-training-dataset-2017-12-02/problem00009\\\\candidate00004', 'pan18-cross-domain-authorship-attribution-training-dataset-2017-12-02/problem00009\\\\candidate00005', 'pan18-cross-domain-authorship-attribution-training-dataset-2017-12-02/problem00009\\\\candidate00006', 'pan18-cross-domain-authorship-attribution-training-dataset-2017-12-02/problem00009\\\\candidate00007', 'pan18-cross-domain-authorship-attribution-training-dataset-2017-12-02/problem00009\\\\candidate00008', 'pan18-cross-domain-authorship-attribution-training-dataset-2017-12-02/problem00009\\\\candidate00009', 'pan18-cross-domain-authorship-attribution-training-dataset-2017-12-02/problem00009\\\\candidate00010', 'pan18-cross-domain-authorship-attribution-training-dataset-2017-12-02/problem00009\\\\candidate00011', 'pan18-cross-domain-authorship-attribution-training-dataset-2017-12-02/problem00009\\\\candidate00012', 'pan18-cross-domain-authorship-attribution-training-dataset-2017-12-02/problem00009\\\\candidate00013', 'pan18-cross-domain-authorship-attribution-training-dataset-2017-12-02/problem00009\\\\candidate00014', 'pan18-cross-domain-authorship-attribution-training-dataset-2017-12-02/problem00009\\\\candidate00015', 'pan18-cross-domain-authorship-attribution-training-dataset-2017-12-02/problem00009\\\\candidate00016', 'pan18-cross-domain-authorship-attribution-training-dataset-2017-12-02/problem00009\\\\candidate00017', 'pan18-cross-domain-authorship-attribution-training-dataset-2017-12-02/problem00009\\\\candidate00018', 'pan18-cross-domain-authorship-attribution-training-dataset-2017-12-02/problem00009\\\\candidate00019', 'pan18-cross-domain-authorship-attribution-training-dataset-2017-12-02/problem00009\\\\candidate00020', 'pan18-cross-domain-authorship-attribution-training-dataset-2017-12-02/problem00009\\\\unknown']\n",
      "Problemdeki Dosyalar: ['known00001.txt', 'known00002.txt', 'known00003.txt', 'known00004.txt', 'known00005.txt', 'known00006.txt', 'known00007.txt']\n",
      "Problemdeki Dosyalar: ['known00001.txt', 'known00002.txt', 'known00003.txt', 'known00004.txt', 'known00005.txt', 'known00006.txt', 'known00007.txt']\n",
      "Problemdeki Dosyalar: ['known00001.txt', 'known00002.txt', 'known00003.txt', 'known00004.txt', 'known00005.txt', 'known00006.txt', 'known00007.txt']\n",
      "Problemdeki Dosyalar: ['known00001.txt', 'known00002.txt', 'known00003.txt', 'known00004.txt', 'known00005.txt', 'known00006.txt', 'known00007.txt']\n",
      "Problemdeki Dosyalar: ['known00001.txt', 'known00002.txt', 'known00003.txt', 'known00004.txt', 'known00005.txt', 'known00006.txt', 'known00007.txt']\n",
      "Problemdeki Dosyalar: ['known00001.txt', 'known00002.txt', 'known00003.txt', 'known00004.txt', 'known00005.txt', 'known00006.txt', 'known00007.txt']\n",
      "Problemdeki Dosyalar: ['known00001.txt', 'known00002.txt', 'known00003.txt', 'known00004.txt', 'known00005.txt', 'known00006.txt', 'known00007.txt']\n",
      "Problemdeki Dosyalar: ['known00001.txt', 'known00002.txt', 'known00003.txt', 'known00004.txt', 'known00005.txt', 'known00006.txt', 'known00007.txt']\n",
      "Problemdeki Dosyalar: ['known00001.txt', 'known00002.txt', 'known00003.txt', 'known00004.txt', 'known00005.txt', 'known00006.txt', 'known00007.txt']\n",
      "Problemdeki Dosyalar: ['known00001.txt', 'known00002.txt', 'known00003.txt', 'known00004.txt', 'known00005.txt', 'known00006.txt', 'known00007.txt']\n",
      "Problemdeki Dosyalar: ['known00001.txt', 'known00002.txt', 'known00003.txt', 'known00004.txt', 'known00005.txt', 'known00006.txt', 'known00007.txt']\n",
      "Problemdeki Dosyalar: ['known00001.txt', 'known00002.txt', 'known00003.txt', 'known00004.txt', 'known00005.txt', 'known00006.txt', 'known00007.txt']\n",
      "Problemdeki Dosyalar: ['known00001.txt', 'known00002.txt', 'known00003.txt', 'known00004.txt', 'known00005.txt', 'known00006.txt', 'known00007.txt']\n",
      "Problemdeki Dosyalar: ['known00001.txt', 'known00002.txt', 'known00003.txt', 'known00004.txt', 'known00005.txt', 'known00006.txt', 'known00007.txt']\n",
      "Problemdeki Dosyalar: ['known00001.txt', 'known00002.txt', 'known00003.txt', 'known00004.txt', 'known00005.txt', 'known00006.txt', 'known00007.txt']\n",
      "Problemdeki Dosyalar: ['known00001.txt', 'known00002.txt', 'known00003.txt', 'known00004.txt', 'known00005.txt', 'known00006.txt', 'known00007.txt']\n",
      "Problemdeki Dosyalar: ['known00001.txt', 'known00002.txt', 'known00003.txt', 'known00004.txt', 'known00005.txt', 'known00006.txt', 'known00007.txt']\n",
      "Problemdeki Dosyalar: ['known00001.txt', 'known00002.txt', 'known00003.txt', 'known00004.txt', 'known00005.txt', 'known00006.txt', 'known00007.txt']\n",
      "Problemdeki Dosyalar: ['known00001.txt', 'known00002.txt', 'known00003.txt', 'known00004.txt', 'known00005.txt', 'known00006.txt', 'known00007.txt']\n",
      "Problemdeki Dosyalar: ['known00001.txt', 'known00002.txt', 'known00003.txt', 'known00004.txt', 'known00005.txt', 'known00006.txt', 'known00007.txt']\n",
      "Problemdeki Dosyalar: ['unknown00001.txt', 'unknown00002.txt', 'unknown00003.txt', 'unknown00004.txt', 'unknown00005.txt', 'unknown00006.txt', 'unknown00007.txt', 'unknown00008.txt', 'unknown00009.txt', 'unknown00010.txt', 'unknown00011.txt', 'unknown00012.txt', 'unknown00013.txt', 'unknown00014.txt', 'unknown00015.txt', 'unknown00016.txt', 'unknown00017.txt', 'unknown00018.txt', 'unknown00019.txt', 'unknown00020.txt', 'unknown00021.txt', 'unknown00022.txt', 'unknown00023.txt', 'unknown00024.txt', 'unknown00025.txt', 'unknown00026.txt', 'unknown00027.txt', 'unknown00028.txt', 'unknown00029.txt', 'unknown00030.txt', 'unknown00031.txt', 'unknown00032.txt', 'unknown00033.txt', 'unknown00034.txt', 'unknown00035.txt', 'unknown00036.txt', 'unknown00037.txt', 'unknown00038.txt', 'unknown00039.txt', 'unknown00040.txt', 'unknown00041.txt', 'unknown00042.txt', 'unknown00043.txt', 'unknown00044.txt', 'unknown00045.txt', 'unknown00046.txt', 'unknown00047.txt', 'unknown00048.txt', 'unknown00049.txt', 'unknown00050.txt', 'unknown00051.txt', 'unknown00052.txt', 'unknown00053.txt', 'unknown00054.txt', 'unknown00055.txt', 'unknown00056.txt', 'unknown00057.txt', 'unknown00058.txt', 'unknown00059.txt', 'unknown00060.txt', 'unknown00061.txt', 'unknown00062.txt', 'unknown00063.txt', 'unknown00064.txt', 'unknown00065.txt', 'unknown00066.txt', 'unknown00067.txt', 'unknown00068.txt', 'unknown00069.txt', 'unknown00070.txt', 'unknown00071.txt', 'unknown00072.txt', 'unknown00073.txt', 'unknown00074.txt', 'unknown00075.txt', 'unknown00076.txt', 'unknown00077.txt', 'unknown00078.txt', 'unknown00079.txt', 'unknown00080.txt', 'unknown00081.txt', 'unknown00082.txt', 'unknown00083.txt', 'unknown00084.txt', 'unknown00085.txt', 'unknown00086.txt', 'unknown00087.txt', 'unknown00088.txt', 'unknown00089.txt', 'unknown00090.txt', 'unknown00091.txt', 'unknown00092.txt', 'unknown00093.txt', 'unknown00094.txt', 'unknown00095.txt', 'unknown00096.txt', 'unknown00097.txt', 'unknown00098.txt', 'unknown00099.txt', 'unknown00100.txt', 'unknown00101.txt', 'unknown00102.txt', 'unknown00103.txt', 'unknown00104.txt', 'unknown00105.txt', 'unknown00106.txt', 'unknown00107.txt', 'unknown00108.txt', 'unknown00109.txt', 'unknown00110.txt', 'unknown00111.txt', 'unknown00112.txt', 'unknown00113.txt', 'unknown00114.txt', 'unknown00115.txt', 'unknown00116.txt', 'unknown00117.txt']\n",
      "Problem Klasörleri: ['pan18-cross-domain-authorship-attribution-training-dataset-2017-12-02/problem00010\\\\candidate00001', 'pan18-cross-domain-authorship-attribution-training-dataset-2017-12-02/problem00010\\\\candidate00002', 'pan18-cross-domain-authorship-attribution-training-dataset-2017-12-02/problem00010\\\\candidate00003', 'pan18-cross-domain-authorship-attribution-training-dataset-2017-12-02/problem00010\\\\candidate00004', 'pan18-cross-domain-authorship-attribution-training-dataset-2017-12-02/problem00010\\\\candidate00005', 'pan18-cross-domain-authorship-attribution-training-dataset-2017-12-02/problem00010\\\\unknown']\n",
      "Problemdeki Dosyalar: ['known00001.txt', 'known00002.txt', 'known00003.txt', 'known00004.txt', 'known00005.txt', 'known00006.txt', 'known00007.txt']\n",
      "Problemdeki Dosyalar: ['known00001.txt', 'known00002.txt', 'known00003.txt', 'known00004.txt', 'known00005.txt', 'known00006.txt', 'known00007.txt']\n",
      "Problemdeki Dosyalar: ['known00001.txt', 'known00002.txt', 'known00003.txt', 'known00004.txt', 'known00005.txt', 'known00006.txt', 'known00007.txt']\n",
      "Problemdeki Dosyalar: ['known00001.txt', 'known00002.txt', 'known00003.txt', 'known00004.txt', 'known00005.txt', 'known00006.txt', 'known00007.txt']\n",
      "Problemdeki Dosyalar: ['known00001.txt', 'known00002.txt', 'known00003.txt', 'known00004.txt', 'known00005.txt', 'known00006.txt', 'known00007.txt']\n",
      "Problemdeki Dosyalar: ['unknown00001.txt', 'unknown00002.txt', 'unknown00003.txt', 'unknown00004.txt', 'unknown00005.txt', 'unknown00006.txt', 'unknown00007.txt', 'unknown00008.txt', 'unknown00009.txt', 'unknown00010.txt', 'unknown00011.txt', 'unknown00012.txt', 'unknown00013.txt', 'unknown00014.txt', 'unknown00015.txt', 'unknown00016.txt', 'unknown00017.txt', 'unknown00018.txt', 'unknown00019.txt', 'unknown00020.txt', 'unknown00021.txt', 'unknown00022.txt', 'unknown00023.txt', 'unknown00024.txt', 'unknown00025.txt', 'unknown00026.txt', 'unknown00027.txt', 'unknown00028.txt', 'unknown00029.txt', 'unknown00030.txt', 'unknown00031.txt', 'unknown00032.txt', 'unknown00033.txt', 'unknown00034.txt', 'unknown00035.txt', 'unknown00036.txt', 'unknown00037.txt', 'unknown00038.txt', 'unknown00039.txt', 'unknown00040.txt', 'unknown00041.txt', 'unknown00042.txt', 'unknown00043.txt', 'unknown00044.txt', 'unknown00045.txt', 'unknown00046.txt', 'unknown00047.txt', 'unknown00048.txt', 'unknown00049.txt', 'unknown00050.txt', 'unknown00051.txt', 'unknown00052.txt', 'unknown00053.txt', 'unknown00054.txt', 'unknown00055.txt', 'unknown00056.txt', 'unknown00057.txt', 'unknown00058.txt', 'unknown00059.txt', 'unknown00060.txt', 'unknown00061.txt', 'unknown00062.txt', 'unknown00063.txt', 'unknown00064.txt']\n",
      "Örnek Temizlenmiş Metin: graceful ones one marvelous said sounding royally bored seat shes tired joe said though unkindly fuc\n"
     ]
    }
   ],
   "source": [
    "import os\n",
    "import pandas as pd\n",
    "import re\n",
    "from sklearn.feature_extraction.text import TfidfVectorizer\n",
    "from nltk.corpus import stopwords\n",
    "from nltk.tokenize import word_tokenize\n",
    "import nltk\n",
    "\n",
    "# NLTK stopwords indirme\n",
    "nltk.download('stopwords')\n",
    "nltk.download('punkt')\n",
    "\n",
    "# Metin temizleme fonksiyonu\n",
    "def clean_text(text):\n",
    "    # Noktalama işaretlerini ve özel karakterleri kaldır\n",
    "    text = re.sub(r'[^\\w\\s]', '', text)\n",
    "    # Sayıları kaldır\n",
    "    text = re.sub(r'\\d+', '', text)\n",
    "    # Küçük harfe çevir\n",
    "    text = text.lower()\n",
    "    # Durak kelimeleri kaldır\n",
    "    stop_words = set(stopwords.words('english'))\n",
    "    tokens = word_tokenize(text)\n",
    "    filtered_tokens = [word for word in tokens if word not in stop_words]\n",
    "    return ' '.join(filtered_tokens)\n",
    "\n",
    "# Eğitim veri setinin yolu\n",
    "articles = []  # Initialize the list to store article data\n",
    "for j in range(1, 11):\n",
    "    if j != 10:\n",
    "        training_dataset_path = 'pan18-cross-domain-authorship-attribution-training-dataset-2017-12-02/problem0000' + str(j)\n",
    "    else:\n",
    "        training_dataset_path = 'pan18-cross-domain-authorship-attribution-training-dataset-2017-12-02/problem00010'\n",
    "\n",
    "    # Tüm problem klasörlerini listeleme\n",
    "    problems = [os.path.join(training_dataset_path, d) for d in os.listdir(training_dataset_path) if os.path.isdir(os.path.join(training_dataset_path, d))]\n",
    "    print(f\"Problem Klasörleri: {problems}\")  # Tüm klasörleri göster\n",
    "\n",
    "    # İlk problem klasöründen dosyaları okuma\n",
    "    for i in range(0, len(problems)):\n",
    "        problem_path = problems[i]\n",
    "        files = os.listdir(problem_path)\n",
    "        print(f\"Problemdeki Dosyalar: {files}\")\n",
    "\n",
    "        # Makale içeriği ve yazar bilgisini okuma\n",
    "        for file_name in files:\n",
    "            file_path = os.path.join(problem_path, file_name)\n",
    "            with open(file_path, 'r', encoding='utf-8') as f:\n",
    "                content = f.read()\n",
    "            \n",
    "            # Temizleme işlemi\n",
    "            cleaned_content = clean_text(content)\n",
    "            \n",
    "            # Yazar bilgisini almak\n",
    "            author = problem_path.split(os.sep)[-1]  # Dosya yolundan yazar ismini almak\n",
    "            articles.append({\"file_name\": file_name, \"content\": cleaned_content, \"author\": author})\n",
    "\n",
    "# Convert the list of articles to a DataFrame\n",
    "df = pd.DataFrame(articles)\n",
    "\n",
    "# Print an example of the cleaned text\n",
    "print(f\"Örnek Temizlenmiş Metin: {df['content'][0][:100]}\")  # İlk 100 karakteri göster"
   ]
  },
  {
   "cell_type": "code",
   "execution_count": 2,
   "id": "1c66d6188cf0033c",
   "metadata": {
    "ExecuteTime": {
     "end_time": "2024-12-28T20:31:31.104075Z",
     "start_time": "2024-12-28T20:31:31.092119Z"
    }
   },
   "outputs": [
    {
     "data": {
      "text/html": [
       "<div>\n",
       "<style scoped>\n",
       "    .dataframe tbody tr th:only-of-type {\n",
       "        vertical-align: middle;\n",
       "    }\n",
       "\n",
       "    .dataframe tbody tr th {\n",
       "        vertical-align: top;\n",
       "    }\n",
       "\n",
       "    .dataframe thead th {\n",
       "        text-align: right;\n",
       "    }\n",
       "</style>\n",
       "<table border=\"1\" class=\"dataframe\">\n",
       "  <thead>\n",
       "    <tr style=\"text-align: right;\">\n",
       "      <th></th>\n",
       "      <th>count</th>\n",
       "      <th>unique</th>\n",
       "      <th>top</th>\n",
       "      <th>freq</th>\n",
       "    </tr>\n",
       "  </thead>\n",
       "  <tbody>\n",
       "    <tr>\n",
       "      <th>file_name</th>\n",
       "      <td>1496</td>\n",
       "      <td>124</td>\n",
       "      <td>known00001.txt</td>\n",
       "      <td>125</td>\n",
       "    </tr>\n",
       "    <tr>\n",
       "      <th>content</th>\n",
       "      <td>1496</td>\n",
       "      <td>1151</td>\n",
       "      <td>graceful ones one marvelous said sounding roya...</td>\n",
       "      <td>2</td>\n",
       "    </tr>\n",
       "    <tr>\n",
       "      <th>author</th>\n",
       "      <td>1496</td>\n",
       "      <td>21</td>\n",
       "      <td>unknown</td>\n",
       "      <td>621</td>\n",
       "    </tr>\n",
       "  </tbody>\n",
       "</table>\n",
       "</div>"
      ],
      "text/plain": [
       "          count unique                                                top freq\n",
       "file_name  1496    124                                     known00001.txt  125\n",
       "content    1496   1151  graceful ones one marvelous said sounding roya...    2\n",
       "author     1496     21                                            unknown  621"
      ]
     },
     "execution_count": 2,
     "metadata": {},
     "output_type": "execute_result"
    }
   ],
   "source": [
    "df.describe().T"
   ]
  },
  {
   "cell_type": "code",
   "execution_count": 13,
   "id": "a0b9129bf3c85c08",
   "metadata": {
    "ExecuteTime": {
     "end_time": "2024-12-28T19:42:24.570139Z",
     "start_time": "2024-12-28T19:42:20.331940Z"
    }
   },
   "outputs": [
    {
     "name": "stdout",
     "output_type": "stream",
     "text": [
      "Word2Vec Modeli Eğitildi.\n",
      "example için vektör: [-0.01077994  0.00302994  0.00793712  0.00476968 -0.01341988 -0.00895221\n",
      " -0.02121854  0.0017423  -0.00256011  0.00551833 -0.02336614  0.00532827\n",
      "  0.01103625  0.00988722 -0.00325779 -0.00065191  0.0013099  -0.0199825\n",
      "  0.01423478 -0.00326447  0.02965087  0.00709801 -0.01464834  0.02030434\n",
      "  0.00956019  0.00216236 -0.01777709  0.00384291  0.00168378 -0.00249647\n",
      "  0.00802423  0.02046254 -0.01924729  0.02661513 -0.01313561 -0.00036861\n",
      " -0.01592461 -0.00356054  0.00920936 -0.00770815 -0.00471307 -0.00503983\n",
      " -0.02437021 -0.01452216 -0.00413266  0.01888513 -0.02939933 -0.01754115\n",
      " -0.00953056  0.00194451 -0.03753168  0.01968654 -0.01289227  0.01812012\n",
      "  0.00760834  0.00567783  0.00282345 -0.00519218 -0.01226441 -0.00638272\n",
      " -0.01791494  0.0158182  -0.00980464 -0.00667914 -0.00405422  0.00044877\n",
      " -0.00116959 -0.00674149  0.01229079 -0.01288813 -0.00602619  0.02127058\n",
      " -0.00409222 -0.01257443 -0.02857084  0.00550354 -0.02119406  0.01367813\n",
      " -0.00420273 -0.00876582  0.01549804  0.01525107  0.00634611 -0.00360728\n",
      "  0.00305632  0.01161933 -0.04221738 -0.00545623 -0.01339931 -0.00543299\n",
      "  0.00844966 -0.00074645 -0.01561693 -0.00045765 -0.01212585  0.00047051\n",
      "  0.01303578 -0.00961906  0.01203761 -0.01192423]\n",
      "Doküman vektörleri oluşturuldu.\n",
      "İlk doküman vektörü: [-0.31590658 -0.11026587  0.17659137  0.10546917 -0.31933078 -0.4020664\n",
      " -0.54234576 -0.18584023  0.22407217  0.1189853  -0.34662774  0.16326155\n",
      "  0.46502328  0.40880415  0.16055839  0.00234578 -0.22058772 -0.26385468\n",
      "  0.21770257 -0.15678833  0.52156496  0.38358754 -0.30906108  0.2358102\n",
      "  0.13985698  0.16517244 -0.5559947   0.26560998 -0.15065832  0.16091725\n",
      "  0.45347247  0.40013534 -0.62489384  0.9110848  -0.4765269  -0.20449194\n",
      " -0.38636512  0.00653805  0.33778977 -0.40368316 -0.3412916   0.12919626\n",
      " -0.4396096  -0.5408695  -0.09491282  0.30668905 -0.67434466 -0.36540622\n",
      " -0.4016251  -0.17047445 -0.80243355  0.505225   -0.21977721  0.46465957\n",
      "  0.35193792  0.06736733  0.03135606  0.0851998  -0.12220874  0.08822831\n",
      " -0.47785264  0.24884261 -0.00833452 -0.3422913  -0.24590011 -0.08633665\n",
      " -0.14264788 -0.3641172   0.49219003 -0.18262888  0.09038975  0.32212186\n",
      " -0.07305893 -0.10817738 -0.676967    0.07236454 -0.3345246   0.11410443\n",
      "  0.00514907 -0.12722133  0.46118188  0.22164306  0.29838532  0.05950329\n",
      " -0.1369904   0.16965736 -0.92664105  0.03452127 -0.21531096 -0.26489842\n",
      "  0.275009   -0.07383138 -0.20398167 -0.09188627 -0.4628106  -0.08136897\n",
      "  0.08805244 -0.20433062  0.22248071 -0.30411288]\n"
     ]
    }
   ],
   "source": [
    "from gensim.models import Word2Vec\n",
    "import numpy as np\n",
    "\n",
    "# Word2Vec modelini eğitmek için veri hazırlama\n",
    "# Her bir dokümanı tokenize edip bir liste haline getiriyoruz\n",
    "tokenized_articles = [content.split() for content in df['content']]\n",
    "\n",
    "# Word2Vec modelini eğitme\n",
    "w2v_model = Word2Vec(sentences=tokenized_articles, vector_size=100, window=5, min_count=2, workers=4, sg=0)  # sg=0 CBOW, sg=1 Skip-Gram\n",
    "print(\"Word2Vec Modeli Eğitildi.\")\n",
    "\n",
    "# Örnek kelime vektörlerini inceleme\n",
    "word = \"example\"  # Kullanılabilir bir kelime seçin\n",
    "if word in w2v_model.wv:\n",
    "    print(f\"{word} için vektör: {w2v_model.wv[word]}\")\n",
    "\n",
    "# Her doküman için vektör oluşturma\n",
    "def document_vector(tokens, model):\n",
    "    # Sadece Word2Vec modelinde bulunan kelimeleri al\n",
    "    vectors = [model.wv[word] for word in tokens if word in model.wv]\n",
    "    if vectors:  # Eğer kelime vektörleri varsa ortalama al\n",
    "        return np.mean(vectors, axis=0)\n",
    "    else:  # Eğer kelime yoksa sıfır vektör dön\n",
    "        return np.zeros(model.vector_size)\n",
    "\n",
    "# Her doküman için vektörleri hesaplama\n",
    "df['doc_vector'] = df['content'].apply(lambda x: document_vector(x.split(), w2v_model))\n",
    "print(\"Doküman vektörleri oluşturuldu.\")\n",
    "\n",
    "# İlk doküman vektörünü inceleme\n",
    "print(f\"İlk doküman vektörü: {df['doc_vector'][0]}\")\n"
   ]
  },
  {
   "cell_type": "code",
   "execution_count": 14,
   "id": "b508ae2bb407f646",
   "metadata": {
    "ExecuteTime": {
     "end_time": "2024-12-28T19:42:25.745169Z",
     "start_time": "2024-12-28T19:42:25.734774Z"
    }
   },
   "outputs": [
    {
     "data": {
      "text/html": [
       "<div>\n",
       "<style scoped>\n",
       "    .dataframe tbody tr th:only-of-type {\n",
       "        vertical-align: middle;\n",
       "    }\n",
       "\n",
       "    .dataframe tbody tr th {\n",
       "        vertical-align: top;\n",
       "    }\n",
       "\n",
       "    .dataframe thead th {\n",
       "        text-align: right;\n",
       "    }\n",
       "</style>\n",
       "<table border=\"1\" class=\"dataframe\">\n",
       "  <thead>\n",
       "    <tr style=\"text-align: right;\">\n",
       "      <th></th>\n",
       "      <th>file_name</th>\n",
       "      <th>content</th>\n",
       "      <th>author</th>\n",
       "      <th>doc_vector</th>\n",
       "    </tr>\n",
       "  </thead>\n",
       "  <tbody>\n",
       "    <tr>\n",
       "      <th>0</th>\n",
       "      <td>known00001.txt</td>\n",
       "      <td>graceful ones one marvelous said sounding roya...</td>\n",
       "      <td>candidate00001</td>\n",
       "      <td>[-0.31590658, -0.110265866, 0.17659137, 0.1054...</td>\n",
       "    </tr>\n",
       "    <tr>\n",
       "      <th>1</th>\n",
       "      <td>known00002.txt</td>\n",
       "      <td>hell remember classmate old school youll never...</td>\n",
       "      <td>candidate00001</td>\n",
       "      <td>[-0.3347103, -0.10423602, 0.16571131, 0.111917...</td>\n",
       "    </tr>\n",
       "    <tr>\n",
       "      <th>2</th>\n",
       "      <td>known00003.txt</td>\n",
       "      <td>thought team baron reason able stay kaito kumo...</td>\n",
       "      <td>candidate00001</td>\n",
       "      <td>[-0.33412147, -0.08777324, 0.1570966, 0.104478...</td>\n",
       "    </tr>\n",
       "    <tr>\n",
       "      <th>3</th>\n",
       "      <td>known00004.txt</td>\n",
       "      <td>zawame citys longer home know gospel truth eve...</td>\n",
       "      <td>candidate00001</td>\n",
       "      <td>[-0.3518064, -0.10401393, 0.17120826, 0.118623...</td>\n",
       "    </tr>\n",
       "    <tr>\n",
       "      <th>4</th>\n",
       "      <td>known00005.txt</td>\n",
       "      <td>showered smiles first time saw never one think...</td>\n",
       "      <td>candidate00001</td>\n",
       "      <td>[-0.36017472, -0.13935393, 0.20503989, 0.12128...</td>\n",
       "    </tr>\n",
       "  </tbody>\n",
       "</table>\n",
       "</div>"
      ],
      "text/plain": [
       "        file_name                                            content  \\\n",
       "0  known00001.txt  graceful ones one marvelous said sounding roya...   \n",
       "1  known00002.txt  hell remember classmate old school youll never...   \n",
       "2  known00003.txt  thought team baron reason able stay kaito kumo...   \n",
       "3  known00004.txt  zawame citys longer home know gospel truth eve...   \n",
       "4  known00005.txt  showered smiles first time saw never one think...   \n",
       "\n",
       "           author                                         doc_vector  \n",
       "0  candidate00001  [-0.31590658, -0.110265866, 0.17659137, 0.1054...  \n",
       "1  candidate00001  [-0.3347103, -0.10423602, 0.16571131, 0.111917...  \n",
       "2  candidate00001  [-0.33412147, -0.08777324, 0.1570966, 0.104478...  \n",
       "3  candidate00001  [-0.3518064, -0.10401393, 0.17120826, 0.118623...  \n",
       "4  candidate00001  [-0.36017472, -0.13935393, 0.20503989, 0.12128...  "
      ]
     },
     "execution_count": 14,
     "metadata": {},
     "output_type": "execute_result"
    }
   ],
   "source": [
    "df.head()"
   ]
  },
  {
   "cell_type": "code",
   "execution_count": 18,
   "id": "86e7951e0773c6d1",
   "metadata": {
    "ExecuteTime": {
     "end_time": "2024-12-28T19:46:48.097243Z",
     "start_time": "2024-12-28T19:46:47.252392Z"
    }
   },
   "outputs": [
    {
     "ename": "FileNotFoundError",
     "evalue": "[Errno 2] No such file or directory: 'glove.6B.100d.txt'",
     "output_type": "error",
     "traceback": [
      "\u001b[1;31m---------------------------------------------------------------------------\u001b[0m",
      "\u001b[1;31mFileNotFoundError\u001b[0m                         Traceback (most recent call last)",
      "Cell \u001b[1;32mIn[18], line 16\u001b[0m\n\u001b[0;32m     14\u001b[0m \u001b[38;5;66;03m# GloVe vektör dosyasının yolu\u001b[39;00m\n\u001b[0;32m     15\u001b[0m glove_file_path \u001b[38;5;241m=\u001b[39m \u001b[38;5;124m'\u001b[39m\u001b[38;5;124mglove.6B.100d.txt\u001b[39m\u001b[38;5;124m'\u001b[39m  \u001b[38;5;66;03m# İndirdiğiniz dosyanın yolu\u001b[39;00m\n\u001b[1;32m---> 16\u001b[0m glove_vectors \u001b[38;5;241m=\u001b[39m load_glove_vectors(glove_file_path)\n\u001b[0;32m     17\u001b[0m \u001b[38;5;28mprint\u001b[39m(\u001b[38;5;124m\"\u001b[39m\u001b[38;5;124mGloVe vektörleri yüklendi.\u001b[39m\u001b[38;5;124m\"\u001b[39m)\n\u001b[0;32m     19\u001b[0m \u001b[38;5;66;03m# Doküman vektörleri oluşturma\u001b[39;00m\n",
      "Cell \u001b[1;32mIn[18], line 6\u001b[0m, in \u001b[0;36mload_glove_vectors\u001b[1;34m(file_path)\u001b[0m\n\u001b[0;32m      4\u001b[0m \u001b[38;5;28;01mdef\u001b[39;00m \u001b[38;5;21mload_glove_vectors\u001b[39m(file_path):\n\u001b[0;32m      5\u001b[0m     glove_vectors \u001b[38;5;241m=\u001b[39m {}\n\u001b[1;32m----> 6\u001b[0m     \u001b[38;5;28;01mwith\u001b[39;00m \u001b[38;5;28mopen\u001b[39m(file_path, \u001b[38;5;124m'\u001b[39m\u001b[38;5;124mr\u001b[39m\u001b[38;5;124m'\u001b[39m, encoding\u001b[38;5;241m=\u001b[39m\u001b[38;5;124m'\u001b[39m\u001b[38;5;124mutf-8\u001b[39m\u001b[38;5;124m'\u001b[39m) \u001b[38;5;28;01mas\u001b[39;00m f:\n\u001b[0;32m      7\u001b[0m         \u001b[38;5;28;01mfor\u001b[39;00m line \u001b[38;5;129;01min\u001b[39;00m f:\n\u001b[0;32m      8\u001b[0m             values \u001b[38;5;241m=\u001b[39m line\u001b[38;5;241m.\u001b[39msplit()\n",
      "File \u001b[1;32m~\\anaconda3\\Lib\\site-packages\\IPython\\core\\interactiveshell.py:324\u001b[0m, in \u001b[0;36m_modified_open\u001b[1;34m(file, *args, **kwargs)\u001b[0m\n\u001b[0;32m    317\u001b[0m \u001b[38;5;28;01mif\u001b[39;00m file \u001b[38;5;129;01min\u001b[39;00m {\u001b[38;5;241m0\u001b[39m, \u001b[38;5;241m1\u001b[39m, \u001b[38;5;241m2\u001b[39m}:\n\u001b[0;32m    318\u001b[0m     \u001b[38;5;28;01mraise\u001b[39;00m \u001b[38;5;167;01mValueError\u001b[39;00m(\n\u001b[0;32m    319\u001b[0m         \u001b[38;5;124mf\u001b[39m\u001b[38;5;124m\"\u001b[39m\u001b[38;5;124mIPython won\u001b[39m\u001b[38;5;124m'\u001b[39m\u001b[38;5;124mt let you open fd=\u001b[39m\u001b[38;5;132;01m{\u001b[39;00mfile\u001b[38;5;132;01m}\u001b[39;00m\u001b[38;5;124m by default \u001b[39m\u001b[38;5;124m\"\u001b[39m\n\u001b[0;32m    320\u001b[0m         \u001b[38;5;124m\"\u001b[39m\u001b[38;5;124mas it is likely to crash IPython. If you know what you are doing, \u001b[39m\u001b[38;5;124m\"\u001b[39m\n\u001b[0;32m    321\u001b[0m         \u001b[38;5;124m\"\u001b[39m\u001b[38;5;124myou can use builtins\u001b[39m\u001b[38;5;124m'\u001b[39m\u001b[38;5;124m open.\u001b[39m\u001b[38;5;124m\"\u001b[39m\n\u001b[0;32m    322\u001b[0m     )\n\u001b[1;32m--> 324\u001b[0m \u001b[38;5;28;01mreturn\u001b[39;00m io_open(file, \u001b[38;5;241m*\u001b[39margs, \u001b[38;5;241m*\u001b[39m\u001b[38;5;241m*\u001b[39mkwargs)\n",
      "\u001b[1;31mFileNotFoundError\u001b[0m: [Errno 2] No such file or directory: 'glove.6B.100d.txt'"
     ]
    }
   ],
   "source": [
    "import numpy as np\n",
    "\n",
    "# GloVe vektörlerini yükleme\n",
    "def load_glove_vectors(file_path):\n",
    "    glove_vectors = {}\n",
    "    with open(file_path, 'r', encoding='utf-8') as f:\n",
    "        for line in f:\n",
    "            values = line.split()\n",
    "            word = values[0]\n",
    "            vector = np.array(values[1:], dtype='float32')\n",
    "            glove_vectors[word] = vector\n",
    "    return glove_vectors\n",
    "\n",
    "# GloVe vektör dosyasının yolu\n",
    "glove_file_path = 'glove.6B.100d.txt'  # İndirdiğiniz dosyanın yolu\n",
    "glove_vectors = load_glove_vectors(glove_file_path)\n",
    "print(\"GloVe vektörleri yüklendi.\")\n",
    "\n",
    "# Doküman vektörleri oluşturma\n",
    "def document_vector_glove(tokens, glove_vectors, vector_size=100):\n",
    "    vectors = [glove_vectors[word] for word in tokens if word in glove_vectors]\n",
    "    if vectors:\n",
    "        return np.mean(vectors, axis=0)\n",
    "    else:\n",
    "        return np.zeros(vector_size)\n",
    "\n",
    "# Her doküman için vektör oluşturma\n",
    "df['doc_vector_glove'] = df['content'].apply(lambda x: document_vector_glove(x.split(), glove_vectors))\n",
    "print(\"GloVe ile doküman vektörleri oluşturuldu.\")\n"
   ]
  },
  {
   "cell_type": "code",
   "execution_count": null,
   "id": "fca9128c2a11c192",
   "metadata": {},
   "outputs": [],
   "source": [
    "df.head()"
   ]
  },
  {
   "cell_type": "code",
   "execution_count": 31,
   "id": "f40fbed70ed61546",
   "metadata": {
    "ExecuteTime": {
     "end_time": "2024-12-28T20:43:47.876163Z",
     "start_time": "2024-12-28T20:32:28.148652Z"
    }
   },
   "outputs": [
    {
     "name": "stdout",
     "output_type": "stream",
     "text": [
      "BERT modeli ve tokenizer yüklendi.\n"
     ]
    },
    {
     "name": "stderr",
     "output_type": "stream",
     "text": [
      "\n",
      "KeyboardInterrupt\n",
      "\n"
     ]
    }
   ],
   "source": [
    "from transformers import BertTokenizer, BertModel\n",
    "import torch\n",
    "\n",
    "# BERT modeli ve tokenizer'ı yükleme\n",
    "tokenizer = BertTokenizer.from_pretrained('bert-base-uncased')\n",
    "model = BertModel.from_pretrained('bert-base-uncased')\n",
    "print(\"BERT modeli ve tokenizer yüklendi.\")\n",
    "\n",
    "# Doküman vektörü çıkarma\n",
    "def document_vector_bert(text, tokenizer, model):\n",
    "    inputs = tokenizer(text, return_tensors=\"pt\", truncation=True, max_length=512, padding=True)\n",
    "    outputs = model(**inputs)\n",
    "    # [CLS] token'ın çıktısını al (genelde doküman vektörü olarak kullanılır)\n",
    "    cls_embedding = outputs.last_hidden_state[:, 0, :].detach().numpy()\n",
    "    return cls_embedding.flatten()\n",
    "\n",
    "# İlk 10 doküman için BERT vektörlerini hesaplama\n",
    "df['doc_vector_bert'] = df['content'].apply(lambda x: document_vector_bert(x, tokenizer, model))\n",
    "print(\"BERT ile doküman vektörleri oluşturuldu.\")\n"
   ]
  },
  {
   "cell_type": "code",
   "execution_count": null,
   "id": "92d9d642180c96dd",
   "metadata": {},
   "outputs": [],
   "source": [
    "df.head()"
   ]
  },
  {
   "cell_type": "code",
   "execution_count": 23,
   "id": "70db95752bb5fb00",
   "metadata": {
    "ExecuteTime": {
     "end_time": "2024-12-28T20:27:59.679230Z",
     "start_time": "2024-12-28T20:27:59.664054Z"
    }
   },
   "outputs": [
    {
     "name": "stdout",
     "output_type": "stream",
     "text": [
      "Eğitim seti boyutu: (1196, 768), Test seti boyutu: (300, 768)\n"
     ]
    }
   ],
   "source": [
    "from sklearn.model_selection import train_test_split\n",
    "from sklearn.preprocessing import LabelEncoder\n",
    "\n",
    "# Yazar etiketlerini sayısal değerlere dönüştürme\n",
    "label_encoder = LabelEncoder()\n",
    "df['author_encoded'] = label_encoder.fit_transform(df['author'])\n",
    "\n",
    "# Doküman vektörlerini ve etiketleri hazırlama\n",
    "X = np.array(df['doc_vector_bert'].tolist())  # Doküman vektörleri\n",
    "y = df['author_encoded']  # Yazar etiketleri\n",
    "\n",
    "# Veriyi eğitim ve test setlerine ayırma\n",
    "X_train, X_test, y_train, y_test = train_test_split(X, y, test_size=0.2, random_state=42, stratify=y)\n",
    "print(f\"Eğitim seti boyutu: {X_train.shape}, Test seti boyutu: {X_test.shape}\")\n"
   ]
  },
  {
   "cell_type": "code",
   "execution_count": 24,
   "id": "11ccf4bd4f1be1fe",
   "metadata": {
    "ExecuteTime": {
     "end_time": "2024-12-28T20:28:10.846637Z",
     "start_time": "2024-12-28T20:28:09.361584Z"
    }
   },
   "outputs": [
    {
     "name": "stdout",
     "output_type": "stream",
     "text": [
      "Model eğitildi.\n"
     ]
    }
   ],
   "source": [
    "from sklearn.linear_model import LogisticRegression\n",
    "from sklearn.metrics import classification_report, accuracy_score\n",
    "\n",
    "# Logistic Regression modeli\n",
    "model = LogisticRegression(max_iter=1000, random_state=42)\n",
    "model.fit(X_train, y_train)\n",
    "print(\"Model eğitildi.\")\n"
   ]
  },
  {
   "cell_type": "code",
   "execution_count": 25,
   "id": "fe9342a8c38b26c8",
   "metadata": {
    "ExecuteTime": {
     "end_time": "2024-12-28T20:28:17.411927Z",
     "start_time": "2024-12-28T20:28:17.394785Z"
    }
   },
   "outputs": [
    {
     "name": "stdout",
     "output_type": "stream",
     "text": [
      "Model Doğruluğu: 0.43\n",
      "Sınıflandırma Raporu:\n",
      "                precision    recall  f1-score   support\n",
      "\n",
      "candidate00001       0.00      0.00      0.00        14\n",
      "candidate00002       0.00      0.00      0.00        14\n",
      "candidate00003       0.06      0.07      0.07        14\n",
      "candidate00004       0.11      0.14      0.12        14\n",
      "candidate00005       0.09      0.07      0.08        14\n",
      "candidate00006       0.00      0.00      0.00         7\n",
      "candidate00007       0.00      0.00      0.00         7\n",
      "candidate00008       1.00      0.14      0.25         7\n",
      "candidate00009       0.00      0.00      0.00         7\n",
      "candidate00010       0.00      0.00      0.00         7\n",
      "candidate00011       0.00      0.00      0.00         7\n",
      "candidate00012       0.00      0.00      0.00         7\n",
      "candidate00013       0.33      0.14      0.20         7\n",
      "candidate00014       0.00      0.00      0.00         7\n",
      "candidate00015       0.00      0.00      0.00         7\n",
      "candidate00016       0.50      0.14      0.22         7\n",
      "candidate00017       0.40      0.29      0.33         7\n",
      "candidate00018       0.17      0.14      0.15         7\n",
      "candidate00019       0.00      0.00      0.00         7\n",
      "candidate00020       0.00      0.00      0.00         7\n",
      "       unknown       0.58      0.96      0.72       125\n",
      "\n",
      "      accuracy                           0.43       300\n",
      "     macro avg       0.15      0.10      0.10       300\n",
      "  weighted avg       0.31      0.43      0.34       300\n",
      "\n"
     ]
    },
    {
     "name": "stderr",
     "output_type": "stream",
     "text": [
      "C:\\Users\\acer\\anaconda3\\Lib\\site-packages\\sklearn\\metrics\\_classification.py:1531: UndefinedMetricWarning: Precision is ill-defined and being set to 0.0 in labels with no predicted samples. Use `zero_division` parameter to control this behavior.\n",
      "  _warn_prf(average, modifier, f\"{metric.capitalize()} is\", len(result))\n",
      "C:\\Users\\acer\\anaconda3\\Lib\\site-packages\\sklearn\\metrics\\_classification.py:1531: UndefinedMetricWarning: Precision is ill-defined and being set to 0.0 in labels with no predicted samples. Use `zero_division` parameter to control this behavior.\n",
      "  _warn_prf(average, modifier, f\"{metric.capitalize()} is\", len(result))\n",
      "C:\\Users\\acer\\anaconda3\\Lib\\site-packages\\sklearn\\metrics\\_classification.py:1531: UndefinedMetricWarning: Precision is ill-defined and being set to 0.0 in labels with no predicted samples. Use `zero_division` parameter to control this behavior.\n",
      "  _warn_prf(average, modifier, f\"{metric.capitalize()} is\", len(result))\n"
     ]
    }
   ],
   "source": [
    "# Test seti tahminleri\n",
    "y_pred = model.predict(X_test)\n",
    "\n",
    "# Performans metrikleri\n",
    "accuracy = accuracy_score(y_test, y_pred)\n",
    "print(f\"Model Doğruluğu: {accuracy:.2f}\")\n",
    "\n",
    "# Sınıflandırma raporu\n",
    "print(\"Sınıflandırma Raporu:\")\n",
    "print(classification_report(y_test, y_pred, target_names=label_encoder.classes_))\n"
   ]
  },
  {
   "cell_type": "code",
   "execution_count": 26,
   "id": "1e768d36d0df69fd",
   "metadata": {
    "ExecuteTime": {
     "end_time": "2024-12-28T20:28:32.551538Z",
     "start_time": "2024-12-28T20:28:31.187118Z"
    }
   },
   "outputs": [
    {
     "data": {
      "image/png": "[encoded data removed]",
      "text/plain": [
       "<Figure size 640x480 with 2 Axes>"
      ]
     },
     "metadata": {},
     "output_type": "display_data"
    }
   ],
   "source": [
    "import matplotlib.pyplot as plt\n",
    "from sklearn.metrics import ConfusionMatrixDisplay\n",
    "\n",
    "# Confusion Matrix\n",
    "ConfusionMatrixDisplay.from_estimator(model, X_test, y_test, display_labels=label_encoder.classes_, cmap='Blues')\n",
    "plt.title(\"Confusion Matrix\")\n",
    "plt.show()\n"
   ]
  },
  {
   "cell_type": "code",
   "execution_count": null,
   "id": "25048fee368b920f",
   "metadata": {},
   "outputs": [],
   "source": []
  },
  {
   "cell_type": "code",
   "execution_count": null,
   "id": "a1995edcd9238a4b",
   "metadata": {},
   "outputs": [],
   "source": []
  },
  {
   "cell_type": "code",
   "execution_count": null,
   "id": "e31f7588e03563dd",
   "metadata": {},
   "outputs": [],
   "source": []
  },
  {
   "cell_type": "code",
   "execution_count": null,
   "id": "adaeb05109ba89d5",
   "metadata": {
    "ExecuteTime": {
     "end_time": "2024-12-28T20:45:42.035431Z",
     "start_time": "2024-12-28T20:44:37.850487Z"
    }
   },
   "outputs": [],
   "source": [
    "import os\n",
    "import pandas as pd\n",
    "import torch\n",
    "from transformers import BertTokenizer, BertModel\n",
    "from sklearn.preprocessing import normalize\n",
    "\n",
    "# BERT modeli ve tokenizer'ı yükleme\n",
    "def load_bert_model():\n",
    "    model_name = \"bert-base-uncased\"\n",
    "    tokenizer = BertTokenizer.from_pretrained(model_name)\n",
    "    model = BertModel.from_pretrained(model_name)\n",
    "    return tokenizer, model\n",
    "\n",
    "# BERT ile metin embedding'i çıkarma\n",
    "def get_bert_embedding(text, tokenizer, model, max_length=512):\n",
    "    # Tokenize etme\n",
    "    tokens = tokenizer(\n",
    "        text,\n",
    "        max_length=max_length,\n",
    "        truncation=True,\n",
    "        padding=\"max_length\",\n",
    "        return_tensors=\"pt\"\n",
    "    )\n",
    "    # BERT'e input ver\n",
    "    with torch.no_grad():\n",
    "        outputs = model(**tokens)\n",
    "    # CLS token'ının embedding'ini al\n",
    "    cls_embedding = outputs.last_hidden_state[:, 0, :]\n",
    "    return cls_embedding.squeeze().numpy()\n",
    "\n",
    "# Eğitim veri setini işleme\n",
    "def process_dataset(base_path, tokenizer, model, num_problems=10):\n",
    "    articles = []\n",
    "    for j in range(1, num_problems + 1):\n",
    "        problem_folder = f\"{base_path}/problem{'0000' if j != 10 else '000'}{j}\"\n",
    "        problems = [os.path.join(problem_folder, d) for d in os.listdir(problem_folder) if os.path.isdir(os.path.join(problem_folder, d))]\n",
    "        \n",
    "        for problem_path in problems:\n",
    "            files = os.listdir(problem_path)\n",
    "            for file_name in files:\n",
    "                file_path = os.path.join(problem_path, file_name)\n",
    "                with open(file_path, 'r', encoding='utf-8') as f:\n",
    "                    content = f.read()\n",
    "                \n",
    "                # Metin embedding'i çıkar\n",
    "                embedding = get_bert_embedding(content, tokenizer, model)\n",
    "                author = os.path.basename(problem_path)  # Klasör adından yazar ismi\n",
    "                articles.append({\"file_name\": file_name, \"embedding\": embedding, \"author\": author})\n",
    "    return pd.DataFrame(articles)\n",
    "\n",
    "# Ana işlem\n",
    "base_path = \"pan18-cross-domain-authorship-attribution-training-dataset-2017-12-02\"\n",
    "tokenizer, model = load_bert_model()\n",
    "df = process_dataset(base_path, tokenizer, model)\n",
    "\n",
    "# Embedding örneğini inceleme\n",
    "print(f\"İlk doküman embedding'i (boyut: {len(df['embedding'][0])}): {df['embedding'][0]}\")"
   ]
  },
  {
   "cell_type": "code",
   "execution_count": 28,
   "id": "a96a2c63fcd7668d",
   "metadata": {
    "ExecuteTime": {
     "end_time": "2024-12-28T20:31:11.995794Z",
     "start_time": "2024-12-28T20:31:11.923361Z"
    }
   },
   "outputs": [
    {
     "ename": "KeyError",
     "evalue": "'embedding'",
     "output_type": "error",
     "traceback": [
      "\u001b[1;31m---------------------------------------------------------------------------\u001b[0m",
      "\u001b[1;31mKeyError\u001b[0m                                  Traceback (most recent call last)",
      "File \u001b[1;32m~\\anaconda3\\Lib\\site-packages\\pandas\\core\\indexes\\base.py:3805\u001b[0m, in \u001b[0;36mIndex.get_loc\u001b[1;34m(self, key)\u001b[0m\n\u001b[0;32m   3804\u001b[0m \u001b[38;5;28;01mtry\u001b[39;00m:\n\u001b[1;32m-> 3805\u001b[0m     \u001b[38;5;28;01mreturn\u001b[39;00m \u001b[38;5;28mself\u001b[39m\u001b[38;5;241m.\u001b[39m_engine\u001b[38;5;241m.\u001b[39mget_loc(casted_key)\n\u001b[0;32m   3806\u001b[0m \u001b[38;5;28;01mexcept\u001b[39;00m \u001b[38;5;167;01mKeyError\u001b[39;00m \u001b[38;5;28;01mas\u001b[39;00m err:\n",
      "File \u001b[1;32mindex.pyx:167\u001b[0m, in \u001b[0;36mpandas._libs.index.IndexEngine.get_loc\u001b[1;34m()\u001b[0m\n",
      "File \u001b[1;32mindex.pyx:196\u001b[0m, in \u001b[0;36mpandas._libs.index.IndexEngine.get_loc\u001b[1;34m()\u001b[0m\n",
      "File \u001b[1;32mpandas\\\\_libs\\\\hashtable_class_helper.pxi:7081\u001b[0m, in \u001b[0;36mpandas._libs.hashtable.PyObjectHashTable.get_item\u001b[1;34m()\u001b[0m\n",
      "File \u001b[1;32mpandas\\\\_libs\\\\hashtable_class_helper.pxi:7089\u001b[0m, in \u001b[0;36mpandas._libs.hashtable.PyObjectHashTable.get_item\u001b[1;34m()\u001b[0m\n",
      "\u001b[1;31mKeyError\u001b[0m: 'embedding'",
      "\nThe above exception was the direct cause of the following exception:\n",
      "\u001b[1;31mKeyError\u001b[0m                                  Traceback (most recent call last)",
      "Cell \u001b[1;32mIn[28], line 6\u001b[0m\n\u001b[0;32m      3\u001b[0m \u001b[38;5;28;01mfrom\u001b[39;00m \u001b[38;5;21;01msklearn\u001b[39;00m\u001b[38;5;21;01m.\u001b[39;00m\u001b[38;5;21;01mmetrics\u001b[39;00m \u001b[38;5;28;01mimport\u001b[39;00m accuracy_score, classification_report\n\u001b[0;32m      5\u001b[0m \u001b[38;5;66;03m# Özellik ve hedef değişkenleri ayırma\u001b[39;00m\n\u001b[1;32m----> 6\u001b[0m X \u001b[38;5;241m=\u001b[39m np\u001b[38;5;241m.\u001b[39mstack(df[\u001b[38;5;124m'\u001b[39m\u001b[38;5;124membedding\u001b[39m\u001b[38;5;124m'\u001b[39m]\u001b[38;5;241m.\u001b[39mvalues)  \u001b[38;5;66;03m# Embedding'leri bir numpy array'e dönüştür\u001b[39;00m\n\u001b[0;32m      7\u001b[0m y \u001b[38;5;241m=\u001b[39m df[\u001b[38;5;124m'\u001b[39m\u001b[38;5;124mauthor\u001b[39m\u001b[38;5;124m'\u001b[39m]  \u001b[38;5;66;03m# Yazar etiketleri\u001b[39;00m\n\u001b[0;32m      9\u001b[0m \u001b[38;5;66;03m# Eğitim ve test seti ayırma\u001b[39;00m\n",
      "File \u001b[1;32m~\\anaconda3\\Lib\\site-packages\\pandas\\core\\frame.py:4102\u001b[0m, in \u001b[0;36mDataFrame.__getitem__\u001b[1;34m(self, key)\u001b[0m\n\u001b[0;32m   4100\u001b[0m \u001b[38;5;28;01mif\u001b[39;00m \u001b[38;5;28mself\u001b[39m\u001b[38;5;241m.\u001b[39mcolumns\u001b[38;5;241m.\u001b[39mnlevels \u001b[38;5;241m>\u001b[39m \u001b[38;5;241m1\u001b[39m:\n\u001b[0;32m   4101\u001b[0m     \u001b[38;5;28;01mreturn\u001b[39;00m \u001b[38;5;28mself\u001b[39m\u001b[38;5;241m.\u001b[39m_getitem_multilevel(key)\n\u001b[1;32m-> 4102\u001b[0m indexer \u001b[38;5;241m=\u001b[39m \u001b[38;5;28mself\u001b[39m\u001b[38;5;241m.\u001b[39mcolumns\u001b[38;5;241m.\u001b[39mget_loc(key)\n\u001b[0;32m   4103\u001b[0m \u001b[38;5;28;01mif\u001b[39;00m is_integer(indexer):\n\u001b[0;32m   4104\u001b[0m     indexer \u001b[38;5;241m=\u001b[39m [indexer]\n",
      "File \u001b[1;32m~\\anaconda3\\Lib\\site-packages\\pandas\\core\\indexes\\base.py:3812\u001b[0m, in \u001b[0;36mIndex.get_loc\u001b[1;34m(self, key)\u001b[0m\n\u001b[0;32m   3807\u001b[0m     \u001b[38;5;28;01mif\u001b[39;00m \u001b[38;5;28misinstance\u001b[39m(casted_key, \u001b[38;5;28mslice\u001b[39m) \u001b[38;5;129;01mor\u001b[39;00m (\n\u001b[0;32m   3808\u001b[0m         \u001b[38;5;28misinstance\u001b[39m(casted_key, abc\u001b[38;5;241m.\u001b[39mIterable)\n\u001b[0;32m   3809\u001b[0m         \u001b[38;5;129;01mand\u001b[39;00m \u001b[38;5;28many\u001b[39m(\u001b[38;5;28misinstance\u001b[39m(x, \u001b[38;5;28mslice\u001b[39m) \u001b[38;5;28;01mfor\u001b[39;00m x \u001b[38;5;129;01min\u001b[39;00m casted_key)\n\u001b[0;32m   3810\u001b[0m     ):\n\u001b[0;32m   3811\u001b[0m         \u001b[38;5;28;01mraise\u001b[39;00m InvalidIndexError(key)\n\u001b[1;32m-> 3812\u001b[0m     \u001b[38;5;28;01mraise\u001b[39;00m \u001b[38;5;167;01mKeyError\u001b[39;00m(key) \u001b[38;5;28;01mfrom\u001b[39;00m \u001b[38;5;21;01merr\u001b[39;00m\n\u001b[0;32m   3813\u001b[0m \u001b[38;5;28;01mexcept\u001b[39;00m \u001b[38;5;167;01mTypeError\u001b[39;00m:\n\u001b[0;32m   3814\u001b[0m     \u001b[38;5;66;03m# If we have a listlike key, _check_indexing_error will raise\u001b[39;00m\n\u001b[0;32m   3815\u001b[0m     \u001b[38;5;66;03m#  InvalidIndexError. Otherwise we fall through and re-raise\u001b[39;00m\n\u001b[0;32m   3816\u001b[0m     \u001b[38;5;66;03m#  the TypeError.\u001b[39;00m\n\u001b[0;32m   3817\u001b[0m     \u001b[38;5;28mself\u001b[39m\u001b[38;5;241m.\u001b[39m_check_indexing_error(key)\n",
      "\u001b[1;31mKeyError\u001b[0m: 'embedding'"
     ]
    }
   ],
   "source": [
    "from sklearn.model_selection import train_test_split\n",
    "from sklearn.linear_model import LogisticRegression\n",
    "from sklearn.metrics import accuracy_score, classification_report\n",
    "\n",
    "# Özellik ve hedef değişkenleri ayırma\n",
    "X = np.stack(df['embedding'].values)  # Embedding'leri bir numpy array'e dönüştür\n",
    "y = df['author']  # Yazar etiketleri\n",
    "\n",
    "# Eğitim ve test seti ayırma\n",
    "X_train, X_test, y_train, y_test = train_test_split(X, y, test_size=0.2, random_state=42)\n",
    "\n",
    "# Logistic Regression modelini eğitme\n",
    "classifier = LogisticRegression(max_iter=1000)\n",
    "classifier.fit(X_train, y_train)\n",
    "\n",
    "# Test seti üzerinde tahmin\n",
    "y_pred = classifier.predict(X_test)\n",
    "\n",
    "# Accuracy hesaplama\n",
    "accuracy = accuracy_score(y_test, y_pred)\n",
    "print(f\"Accuracy: {accuracy:.4f}\")\n",
    "\n",
    "# Daha detaylı metrikler için sınıflandırma raporu\n",
    "print(classification_report(y_test, y_pred))"
   ]
  },
  {
   "cell_type": "code",
   "execution_count": null,
   "id": "c5ec63b6904ac695",
   "metadata": {},
   "outputs": [],
   "source": []
  },
  {
   "cell_type": "code",
   "execution_count": 15,
   "id": "80670516-874f-40cf-84c9-6f1ae29ad931",
   "metadata": {
    "ExecuteTime": {
     "end_time": "2024-12-28T19:42:31.813206Z",
     "start_time": "2024-12-28T19:42:31.626240Z"
    }
   },
   "outputs": [
    {
     "name": "stdout",
     "output_type": "stream",
     "text": [
      "Accuracy: 0.4033333333333333\n",
      "\n",
      "Classification Report:\n",
      "                 precision    recall  f1-score   support\n",
      "\n",
      "candidate00001       0.00      0.00      0.00        14\n",
      "candidate00002       0.00      0.00      0.00         5\n",
      "candidate00003       0.00      0.00      0.00        11\n",
      "candidate00004       0.00      0.00      0.00        13\n",
      "candidate00005       0.00      0.00      0.00        17\n",
      "candidate00006       0.00      0.00      0.00         4\n",
      "candidate00007       0.00      0.00      0.00        11\n",
      "candidate00008       0.00      0.00      0.00         9\n",
      "candidate00009       0.00      0.00      0.00        13\n",
      "candidate00010       0.00      0.00      0.00        11\n",
      "candidate00011       0.00      0.00      0.00         9\n",
      "candidate00012       0.00      0.00      0.00         8\n",
      "candidate00013       0.00      0.00      0.00         5\n",
      "candidate00014       0.00      0.00      0.00         3\n",
      "candidate00015       0.00      0.00      0.00         4\n",
      "candidate00016       0.00      0.00      0.00         5\n",
      "candidate00017       0.00      0.00      0.00         8\n",
      "candidate00018       0.00      0.00      0.00        10\n",
      "candidate00019       0.00      0.00      0.00        13\n",
      "candidate00020       0.00      0.00      0.00         6\n",
      "       unknown       0.41      1.00      0.58       121\n",
      "\n",
      "      accuracy                           0.40       300\n",
      "     macro avg       0.02      0.05      0.03       300\n",
      "  weighted avg       0.16      0.40      0.23       300\n",
      "\n"
     ]
    },
    {
     "name": "stderr",
     "output_type": "stream",
     "text": [
      "C:\\Users\\acer\\anaconda3\\Lib\\site-packages\\sklearn\\metrics\\_classification.py:1531: UndefinedMetricWarning: Precision is ill-defined and being set to 0.0 in labels with no predicted samples. Use `zero_division` parameter to control this behavior.\n",
      "  _warn_prf(average, modifier, f\"{metric.capitalize()} is\", len(result))\n",
      "C:\\Users\\acer\\anaconda3\\Lib\\site-packages\\sklearn\\metrics\\_classification.py:1531: UndefinedMetricWarning: Precision is ill-defined and being set to 0.0 in labels with no predicted samples. Use `zero_division` parameter to control this behavior.\n",
      "  _warn_prf(average, modifier, f\"{metric.capitalize()} is\", len(result))\n",
      "C:\\Users\\acer\\anaconda3\\Lib\\site-packages\\sklearn\\metrics\\_classification.py:1531: UndefinedMetricWarning: Precision is ill-defined and being set to 0.0 in labels with no predicted samples. Use `zero_division` parameter to control this behavior.\n",
      "  _warn_prf(average, modifier, f\"{metric.capitalize()} is\", len(result))\n"
     ]
    }
   ],
   "source": [
    "from sklearn.model_selection import train_test_split\n",
    "from sklearn.linear_model import LogisticRegression\n",
    "from sklearn.metrics import classification_report, accuracy_score\n",
    "\n",
    "# Veri hazırlama\n",
    "# Doküman vektörlerini matris formatına çevirme\n",
    "X = np.vstack(df['doc_vector'].values)  # Vektörler matris formatında\n",
    "y = df['author']  # Hedef değişken (yazarlar)\n",
    "\n",
    "# Eğitim ve test setlerine ayırma\n",
    "X_train, X_test, y_train, y_test = train_test_split(X, y, test_size=0.2, random_state=42)\n",
    "\n",
    "# Logistic Regression modeli eğitme\n",
    "model = LogisticRegression(max_iter=1000, random_state=42)\n",
    "model.fit(X_train, y_train)\n",
    "\n",
    "# Test seti üzerinde tahmin yapma\n",
    "y_pred = model.predict(X_test)\n",
    "\n",
    "# Performans değerlendirme\n",
    "print(\"Accuracy:\", accuracy_score(y_test, y_pred))\n",
    "print(\"\\nClassification Report:\\n\", classification_report(y_test, y_pred))\n"
   ]
  },
  {
   "cell_type": "code",
   "execution_count": null,
   "id": "4902623f19b4de58",
   "metadata": {},
   "outputs": [],
   "source": []
  }
 ],
 "metadata": {
  "kernelspec": {
   "display_name": "Python 3 (ipykernel)",
   "language": "python",
   "name": "python3"
  },
  "language_info": {
   "codemirror_mode": {
    "name": "ipython",
    "version": 3
   },
   "file_extension": ".py",
   "mimetype": "text/x-python",
   "name": "python",
   "nbconvert_exporter": "python",
   "pygments_lexer": "ipython3",
   "version": "3.11.5"
  }
 },
 "nbformat": 4,
 "nbformat_minor": 5
}
